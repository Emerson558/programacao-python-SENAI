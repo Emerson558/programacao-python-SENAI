{
 "cells": [
  {
   "cell_type": "markdown",
   "metadata": {},
   "source": [
    "### Exercício 10. \n",
    "\n",
    "Faça uma função que recebe um valor inteiro e verifica se o valor é par ou \n",
    "ímpar. A função deve retornar um valor booleano.\n"
   ]
  },
  {
   "cell_type": "code",
   "execution_count": null,
   "metadata": {},
   "outputs": [],
   "source": [
    "#Criando a função\n",
    "def par_ou_impar(numero):\n",
    "    \n",
    "    numero = int(numero)\n",
    "\n",
    "    if numero%2 == 0:\n",
    "        resultado = True\n",
    "    else:\n",
    "        resultado = False\n",
    "\n",
    "    return resultado\n",
    "\n",
    "\n",
    "#criar uma função para traduzir TRUE (PAR) e FALSE (IMPAR)\n",
    "def conversion(result):\n",
    "    \n",
    "    if result:\n",
    "        resultado = 'Par'\n",
    "    else:\n",
    "        resultado = 'Impar'\n",
    "    return resultado"
   ]
  },
  {
   "cell_type": "code",
   "execution_count": null,
   "metadata": {},
   "outputs": [],
   "source": [
    "valor = input('Digite um número: ')\n",
    "\n",
    "conversion(par_ou_impar(valor))"
   ]
  },
  {
   "attachments": {
    "image.png": {
     "image/png": "[encoded data removed]"
    }
   },
   "cell_type": "markdown",
   "metadata": {},
   "source": [
    "### Exercício 11. \n",
    "Faça uma função que recebe a média final de um aluno por parãmetro e \n",
    "retorna o seu conceito, conforme a tabela abaixo:\n",
    "\n",
    "![image.png](attachment:image.png)"
   ]
  },
  {
   "cell_type": "code",
   "execution_count": null,
   "metadata": {},
   "outputs": [],
   "source": [
    "def conceito_final(nota):\n",
    "    nota = float(nota)\n",
    "\n",
    "    if nota>=0 and nota<=4.9:\n",
    "        conceito = 'D'\n",
    "    elif nota>=5 and nota<=6.9:\n",
    "        conceito = 'C'\n",
    "    elif nota>=7 and nota<=8.9:\n",
    "        conceito = 'B'\n",
    "    elif nota >=9 and nota<=10:\n",
    "        conceito = 'A'\n",
    "    else:\n",
    "        conceito = 'Digite uma nota entre 0 e 10.'\n",
    "\n",
    "    return conceito\n"
   ]
  },
  {
   "cell_type": "code",
   "execution_count": null,
   "metadata": {},
   "outputs": [],
   "source": [
    "nota = input('Digite sua nota: ')\n",
    "print(f'Sua nota final é {nota}, portanto seu conceito final é {conceito_final(nota)}.')"
   ]
  },
  {
   "cell_type": "markdown",
   "metadata": {},
   "source": [
    "### Exercício 12. \n",
    "\n",
    "Faça uma função que recebe, por parâmetro, a altura (alt) e o sexo de uma \n",
    "pessoa e retorna o seu peso ideal. Para homens, calcular o peso ideal usando a fórmula \n",
    "peso ideal = 72.7 x alt - 58 e, para mulheres, peso ideal = 62.1 x alt - 44.7.\n"
   ]
  },
  {
   "cell_type": "code",
   "execution_count": null,
   "metadata": {},
   "outputs": [],
   "source": [
    "def peso_ideal(altura,genero):\n",
    "    \n",
    "    genero = genero.lower()\n",
    "    altura = float(altura)\n",
    "\n",
    "    if genero == 'h':\n",
    "        result = 72.7 * altura - 58\n",
    "    elif genero == 'm':\n",
    "        result = 62.1 + altura - 44.7\n",
    "    else:\n",
    "        result: 'Digite uma letra válida. [H] Homem / [M] mulheres.'\n",
    "    \n",
    "    return result"
   ]
  },
  {
   "cell_type": "code",
   "execution_count": null,
   "metadata": {},
   "outputs": [],
   "source": [
    "altura = input('Informe sua Altura: ')\n",
    "genero = input('Qual gênero você se identifica')\n",
    "\n",
    "peso_ideal(genero,altura)"
   ]
  },
  {
   "cell_type": "markdown",
   "metadata": {},
   "source": [
    "### Desafio 01 \n",
    "\n",
    "Escreva uma função Python para somar todos os números em uma \n",
    "lista"
   ]
  },
  {
   "cell_type": "code",
   "execution_count": 87,
   "metadata": {},
   "outputs": [],
   "source": [
    "def somar_listas(lista):\n",
    "   \n",
    "    soma = 0\n",
    "\n",
    "    for x in lista:\n",
    "        soma += x\n",
    "    \n",
    "    \n",
    "    return soma\n"
   ]
  },
  {
   "cell_type": "code",
   "execution_count": 88,
   "metadata": {},
   "outputs": [
    {
     "data": {
      "text/plain": [
       "210"
      ]
     },
     "execution_count": 88,
     "metadata": {},
     "output_type": "execute_result"
    }
   ],
   "source": [
    "list = [1,2,3,4,5,6,7,8,9,10,11,12,13,14,15,16,17,18,19,20]\n",
    "somar_listas(list)"
   ]
  },
  {
   "cell_type": "code",
   "execution_count": null,
   "metadata": {},
   "outputs": [],
   "source": []
  }
 ],
 "metadata": {
  "kernelspec": {
   "display_name": "Python 3",
   "language": "python",
   "name": "python3"
  },
  "language_info": {
   "codemirror_mode": {
    "name": "ipython",
    "version": 3
   },
   "file_extension": ".py",
   "mimetype": "text/x-python",
   "name": "python",
   "nbconvert_exporter": "python",
   "pygments_lexer": "ipython3",
   "version": "3.11.0"
  },
  "orig_nbformat": 4
 },
 "nbformat": 4,
 "nbformat_minor": 2
}
