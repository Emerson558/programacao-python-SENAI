{
 "cells": [
  {
   "cell_type": "code",
   "execution_count": 5,
   "metadata": {},
   "outputs": [
    {
     "name": "stdout",
     "output_type": "stream",
     "text": [
      "Requirement already satisfied: openpyxl in c:\\python311\\lib\\site-packages (3.1.2)\n",
      "Requirement already satisfied: et-xmlfile in c:\\python311\\lib\\site-packages (from openpyxl) (1.1.0)\n"
     ]
    },
    {
     "name": "stderr",
     "output_type": "stream",
     "text": [
      "\n",
      "[notice] A new release of pip available: 22.3 -> 23.2.1\n",
      "[notice] To update, run: python.exe -m pip install --upgrade pip\n"
     ]
    }
   ],
   "source": [
    "!pip install openpyxl"
   ]
  },
  {
   "cell_type": "code",
   "execution_count": 6,
   "metadata": {},
   "outputs": [
    {
     "name": "stdout",
     "output_type": "stream",
     "text": [
      "Executando no nosso arquivo excel gastos.xlsx\n"
     ]
    }
   ],
   "source": [
    "#----------------------Importando a bliclioteca\n",
    "import openpyxl\n",
    "\n",
    "#----------------------Abrindo o arquivo txt\n",
    "\n",
    "caminho = 'C:\\\\Users\\\\FIC\\\\Documents\\\\Emerson-Python\\\\Aula 13\\\\Aula 11.08.2023_Emerson\\\\Arquivos\\\\'\n",
    "\n",
    "#----------------------conexão com o arquivo\n",
    "f = open(caminho + 'gastos.txt','r',encoding='utf-8')\n",
    "\n",
    "#Leitura do conteúdo do arquivo\n",
    "arquivo = f.read()\n",
    "\n",
    "#Convertendo o conteúdo da variável em uma lista\n",
    "lista_dados = arquivo.splitlines()\n",
    "\n",
    "#Dividimos a lista em sublistas\n",
    "#\n",
    "for i in range(0, len(lista_dados)):\n",
    "    lista_dados[i] = lista_dados[i].split(',')\n",
    "\n",
    "wb = openpyxl.Workbook() #criando um arquivo\n",
    "ws = wb.active #criando uma planilha(aba)\n",
    "\n",
    "print('Executando no nosso arquivo excel gastos.xlsx')\n",
    "\n",
    "for linha in lista_dados:\n",
    "    ws.append(linha)\n",
    "\n",
    "wb.save(filename=caminho + 'gastos.xlsx')\n",
    "\n",
    "\n",
    "\n"
   ]
  },
  {
   "cell_type": "code",
   "execution_count": null,
   "metadata": {},
   "outputs": [],
   "source": []
  }
 ],
 "metadata": {
  "kernelspec": {
   "display_name": "Python 3",
   "language": "python",
   "name": "python3"
  },
  "language_info": {
   "codemirror_mode": {
    "name": "ipython",
    "version": 3
   },
   "file_extension": ".py",
   "mimetype": "text/x-python",
   "name": "python",
   "nbconvert_exporter": "python",
   "pygments_lexer": "ipython3",
   "version": "3.11.0"
  },
  "orig_nbformat": 4
 },
 "nbformat": 4,
 "nbformat_minor": 2
}
