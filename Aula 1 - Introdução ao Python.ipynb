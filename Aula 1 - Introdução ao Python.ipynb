{
 "cells": [
  {
   "cell_type": "markdown",
   "id": "d27f2ad6",
   "metadata": {},
   "source": [
    "### Exercício 01 – Crie um programa para receber dois valores e em seguida, exiba o valor da soma."
   ]
  },
  {
   "cell_type": "code",
   "execution_count": 11,
   "id": "48833cfe",
   "metadata": {},
   "outputs": [
    {
     "name": "stdout",
     "output_type": "stream",
     "text": [
      "A soma é: 40\n"
     ]
    }
   ],
   "source": [
    "valor1 = 10\n",
    "valor2 = 30\n",
    "soma = valor1 + valor2\n",
    "\n",
    "print('A soma é:',soma)\n"
   ]
  },
  {
   "cell_type": "markdown",
   "id": "f8cde4d0",
   "metadata": {},
   "source": [
    "### Exercício 02 – Crie um programa para receber dois valores e em seguida, exiba o valor da diferença entre eles.\n",
    "\n"
   ]
  },
  {
   "cell_type": "code",
   "execution_count": 12,
   "id": "2b655a27",
   "metadata": {},
   "outputs": [
    {
     "name": "stdout",
     "output_type": "stream",
     "text": [
      "A subtração é:  5\n"
     ]
    }
   ],
   "source": [
    "valor1 = 10\n",
    "valor2 = 5\n",
    "dif = valor1 - valor2\n",
    "print('A subtração é: ',dif)"
   ]
  },
  {
   "cell_type": "markdown",
   "id": "8bef8b1d",
   "metadata": {},
   "source": [
    "### Exercício 03 – Crie um programa para receber dois valores e em seguida, exiba o produto entre eles.\n",
    "\n"
   ]
  },
  {
   "cell_type": "code",
   "execution_count": 13,
   "id": "6c3fea37",
   "metadata": {},
   "outputs": [
    {
     "name": "stdout",
     "output_type": "stream",
     "text": [
      "A multiplicação é:  50\n"
     ]
    }
   ],
   "source": [
    "valor1 = 10\n",
    "valor2 = 5\n",
    "produto = valor1 * valor2\n",
    "print('A multiplicação é: ', produto)\n"
   ]
  },
  {
   "cell_type": "markdown",
   "id": "95a89c40",
   "metadata": {},
   "source": [
    "### Exercício 04 - Crie um programa para receber dois valores e em seguida, exiba o quociente entre eles.\n"
   ]
  },
  {
   "cell_type": "code",
   "execution_count": 16,
   "id": "0240036e",
   "metadata": {},
   "outputs": [
    {
     "name": "stdout",
     "output_type": "stream",
     "text": [
      "A divisão é:  2.0\n"
     ]
    }
   ],
   "source": [
    "valor1 = 10\n",
    "valor2 = 5\n",
    "quociente = valor1 / valor2\n",
    "print('A divisão é: ', quociente)"
   ]
  },
  {
   "cell_type": "markdown",
   "id": "cb5dfb3c",
   "metadata": {},
   "source": [
    "### Exercício 05 - Crie um programa para receber dois valores e em seguida, exiba o resto da divisão entre eles.\n"
   ]
  },
  {
   "cell_type": "code",
   "execution_count": 15,
   "id": "c8a6b792",
   "metadata": {},
   "outputs": [
    {
     "name": "stdout",
     "output_type": "stream",
     "text": [
      "O resto é:  1\n"
     ]
    }
   ],
   "source": [
    "valor1 = 10\n",
    "valor2 = 3\n",
    "resto = valor1 % valor2\n",
    "print('O resto é: ', resto)"
   ]
  },
  {
   "cell_type": "markdown",
   "id": "fb3f4fad",
   "metadata": {},
   "source": [
    "### Exercício 06 - Crie um programa para receber um número e em seguida, exiba o quadrado dele.\n",
    "\n"
   ]
  },
  {
   "cell_type": "code",
   "execution_count": 18,
   "id": "278669cd",
   "metadata": {},
   "outputs": [
    {
     "name": "stdout",
     "output_type": "stream",
     "text": [
      "O valor ao quadrado é:  25\n"
     ]
    }
   ],
   "source": [
    "valor = 5\n",
    "quadrado = valor ** 2\n",
    "print('O valor ao quadrado é: ', quadrado)"
   ]
  },
  {
   "cell_type": "markdown",
   "id": "04433c1e",
   "metadata": {},
   "source": [
    "### Exercício 07 – Elabora um programa para calcular a raiz quadrada de um número, utilizando a biblioteca math.\n",
    "\n"
   ]
  },
  {
   "cell_type": "code",
   "execution_count": 21,
   "id": "c51ac51c",
   "metadata": {},
   "outputs": [
    {
     "name": "stdout",
     "output_type": "stream",
     "text": [
      "A raiz quadrada é:  5.196152422706632\n"
     ]
    }
   ],
   "source": [
    "import math\n",
    "valor = 27\n",
    "raiz_quadrada = math.sqrt(valor)\n",
    "print('A raiz quadrada é: ', raiz_quadrada)"
   ]
  },
  {
   "cell_type": "markdown",
   "id": "facf8c7b",
   "metadata": {},
   "source": [
    "#### Exercício 08 – Crie um programa que seja capaz de calcular o valor absoluto de um número\n"
   ]
  },
  {
   "cell_type": "code",
   "execution_count": 22,
   "id": "7713a30c",
   "metadata": {},
   "outputs": [
    {
     "name": "stdout",
     "output_type": "stream",
     "text": [
      "O valor do número absoluto é:  5\n"
     ]
    }
   ],
   "source": [
    "valor = -5\n",
    "absoluto = abs(valor)\n",
    "print('O valor do número absoluto é: ',absoluto)"
   ]
  },
  {
   "cell_type": "markdown",
   "id": "6c4dcedc",
   "metadata": {},
   "source": [
    "### Exercício 09 - Atribua os seguintes valores às variáveis, um a um:"
   ]
  },
  {
   "cell_type": "code",
   "execution_count": 23,
   "id": "16809162",
   "metadata": {},
   "outputs": [],
   "source": [
    "a = 347\n",
    "b = 2.71\n",
    "c = \"347\"\n",
    "d = 2+3j"
   ]
  },
  {
   "cell_type": "markdown",
   "id": "5b893878",
   "metadata": {},
   "source": [
    "### Exercício 10 - Faça um Programa que converta metros para centímetros."
   ]
  },
  {
   "cell_type": "code",
   "execution_count": 29,
   "id": "8d846f92",
   "metadata": {},
   "outputs": [
    {
     "name": "stdout",
     "output_type": "stream",
     "text": [
      "Digite um valor em metro: 1\n",
      "O valor em CM é:  100.0\n"
     ]
    }
   ],
   "source": [
    "valorMetro = input(\"Digite um valor em metro: \")\n",
    "valorMetro = float(valorMetro)\n",
    "valorMetro = valorMetro * 100\n",
    "print('O valor em CM é: ',valorMetro)"
   ]
  },
  {
   "cell_type": "markdown",
   "id": "857e3b89",
   "metadata": {},
   "source": [
    "### Exercício 11 - Faça um Programa que peça o raio de um círculo, calcule e mostre sua área.\n"
   ]
  },
  {
   "cell_type": "code",
   "execution_count": 31,
   "id": "8feb9401",
   "metadata": {},
   "outputs": [
    {
     "name": "stdout",
     "output_type": "stream",
     "text": [
      "Digite o Raio5\n",
      "A área da circunferência é:  78.5\n"
     ]
    }
   ],
   "source": [
    "valorRaio = input('Digite o Raio')\n",
    "valorRaio = float(valorRaio)\n",
    "valorRaio = 3.14*((valorRaio)**2)\n",
    "print('A área da circunferência é: ', valorRaio)"
   ]
  },
  {
   "cell_type": "markdown",
   "id": "9905fc22",
   "metadata": {},
   "source": [
    "### Exercício 12 - Faça um Programa que calcule a área de um quadrado, em seguida mostre o dobro desta área para o usuário.\n",
    "\n"
   ]
  },
  {
   "cell_type": "code",
   "execution_count": 35,
   "id": "79b60e9d",
   "metadata": {},
   "outputs": [
    {
     "name": "stdout",
     "output_type": "stream",
     "text": [
      "Digite a medida de um lado do quadrado: 10\n",
      "O dobro da área do quadrado é:  200.0\n"
     ]
    }
   ],
   "source": [
    "medidaQ = input('Digite a medida de um lado do quadrado: ')\n",
    "medidaQ = float(medidaQ)\n",
    "medidaQ = medidaQ * medidaQ * 2\n",
    "print('O dobro da área do quadrado é: ',medidaQ)"
   ]
  },
  {
   "cell_type": "markdown",
   "id": "06a3bd5d",
   "metadata": {},
   "source": [
    "## Exercício 13 - Faça um Programa que pergunte quanto você ganha por hora e o número de horas trabalhadas no mês. Calcule e mostre o total do seu salário no referido mês."
   ]
  },
  {
   "cell_type": "code",
   "execution_count": 36,
   "id": "0d77780a",
   "metadata": {},
   "outputs": [
    {
     "name": "stdout",
     "output_type": "stream",
     "text": [
      "Digite quanto vc ganha por hora: 12\n",
      "Digite a quantidade de horas que vc trabalha: 220\n",
      "O seu salário do mês é:  2640.0\n"
     ]
    }
   ],
   "source": [
    "valorHora = input('Digite quanto vc ganha por hora: ')\n",
    "qtdHora = input('Digite a quantidade de horas que vc trabalha: ')\n",
    "valorHora = float(valorHora)\n",
    "qtdHora = float(qtdHora)\n",
    "salario = valorHora * qtdHora\n",
    "print('O seu salário do mês é: ', salario)\n"
   ]
  },
  {
   "cell_type": "markdown",
   "id": "9ef07a25",
   "metadata": {},
   "source": [
    "### Exercício 14 - Faça um Programa que peça a temperatura em graus Fahrenheit, transforme e mostre a temperatura em graus Celsius.\n"
   ]
  },
  {
   "cell_type": "code",
   "execution_count": 37,
   "id": "3a8d093e",
   "metadata": {},
   "outputs": [
    {
     "name": "stdout",
     "output_type": "stream",
     "text": [
      "Digite a temperatura em graus Fahrenheit: 5\n",
      "A temperatura é: -15.0 C\n"
     ]
    }
   ],
   "source": [
    "f = input('Digite a temperatura em graus Fahrenheit: ')\n",
    "f = float(f)\n",
    "\n",
    "c = 5*((f-32)/9)\n",
    "print('A temperatura é:',c, 'C')"
   ]
  },
  {
   "cell_type": "markdown",
   "id": "14ed2e5c",
   "metadata": {},
   "source": [
    "### Exercício 15 - Faça um Programa que peça a temperatura em graus Celsius, transforme e mostre em graus Fahrenheit.\n",
    "\n"
   ]
  },
  {
   "cell_type": "code",
   "execution_count": 39,
   "id": "6cba162f",
   "metadata": {},
   "outputs": [
    {
     "name": "stdout",
     "output_type": "stream",
     "text": [
      "Informe a temperatura em graus Celsius: 56\n",
      "A temperatura é: 132.8 F\n"
     ]
    }
   ],
   "source": [
    "c = input('Informe a temperatura em graus Celsius: ')\n",
    "c = float(c)\n",
    "\n",
    "f = 1.8*c+32\n",
    "print('A temperatura é:',f, 'F')"
   ]
  },
  {
   "cell_type": "markdown",
   "id": "3a3e875d",
   "metadata": {},
   "source": [
    "### Exercício 16 - Faça um Programa que peça 2 números inteiros e um número real. Calcule e mostre:\n"
   ]
  },
  {
   "cell_type": "code",
   "execution_count": 42,
   "id": "6adc84fc",
   "metadata": {},
   "outputs": [
    {
     "name": "stdout",
     "output_type": "stream",
     "text": [
      "Digite o primeiro número inteiro: 10\n",
      "Digite o segundo número inteiro: 20\n",
      "Digite um número real: 56\n",
      "Produto do dobro do primeiro com metade do segundo é:  30.0\n",
      "A soma do triplo do primeiro com o terceiro é:  198.0\n",
      "O terceiro elevado ao cubo. 175616.0\n"
     ]
    }
   ],
   "source": [
    "int1 = input('Digite o primeiro número inteiro: ')\n",
    "int2 = input('Digite o segundo número inteiro: ')\n",
    "real = input('Digite um número real: ')\n",
    "int1 = int(int1)\n",
    "int2 = int(int2)\n",
    "real = float(real)\n",
    "\n",
    "a = int1 * 2 + int2 / 2 #a) o produto do dobro do primeiro com metade do segundo.\n",
    "b = int1 * 3 + real * 3 #b) a soma do triplo do primeiro com o terceiro.\n",
    "c = real**3             #c) o terceiro elevado ao cubo \n",
    "\n",
    "print('Produto do dobro do primeiro com metade do segundo é: ',a)\n",
    "print('A soma do triplo do primeiro com o terceiro é: ',b)\n",
    "print('O terceiro elevado ao cubo é: ' ,c)\n"
   ]
  },
  {
   "cell_type": "markdown",
   "id": "eb957888",
   "metadata": {},
   "source": [
    "### Exercício 17 - João Papo-de-Pescador, homem de bem, comprou um microcomputador para controlar o rendimento diário de seu trabalho. Toda vez que ele traz um peso de peixes maior que o estabelecido pelo regulamento de pesca do estado de São Paulo (50 quilos) deve pagar uma multa de  R$ 4,00 por quilo excedente.você faça um programa que leia a variável peso (peso de peixes) e calcule o excesso. Gravar na variável excesso a quantidade de quilos além do limite e na variável multa o valor da multa que João deverá pagar. Imprima os dados do programa com as mensagens adequadas.\n",
    " \n",
    "\n",
    " "
   ]
  },
  {
   "cell_type": "code",
   "execution_count": 50,
   "id": "35979834",
   "metadata": {},
   "outputs": [
    {
     "name": "stdout",
     "output_type": "stream",
     "text": [
      "Digite o peso do item: 100\n",
      "O valor da multa é:  200.0\n"
     ]
    }
   ],
   "source": [
    "itemPesado = input('Digite o peso do item: ')\n",
    "itemPesado = float(itemPesado)\n",
    "if itemPesado > 50:\n",
    "    kiloAmais = itemPesado - 50 \n",
    "    kiloAmais = kiloAmais * 4\n",
    "    print('O valor da multa é: ',kiloAmais)  \n",
    "else:\n",
    "    print('Não houve multa!!')        "
   ]
  },
  {
   "cell_type": "markdown",
   "id": "c6845c9b",
   "metadata": {},
   "source": [
    "### Exercício 18 - Faça um Programa que pergunte quanto você ganha por hora e o número de horas trabalhadas no mês. Calcule e mostre o total do seu salário no referido mês, sabendo-se que são descontados 11% para o Imposto de Renda, 8% para o INSS e 5% para o sindicato, faça um programa que nos dê:\n",
    " \n",
    "\n"
   ]
  },
  {
   "cell_type": "code",
   "execution_count": 55,
   "id": "a51e586d",
   "metadata": {},
   "outputs": [
    {
     "name": "stdout",
     "output_type": "stream",
     "text": [
      "Digite o valor que vc ganha por hora: 10\n",
      "Digite a quantidade de horas que vc trabalhou: 1000\n",
      "O salário bruto é:  10000.0\n",
      "O valor pago no imposto de renda é:  1100.0\n",
      "O valor pago no INSS é:  800.0\n",
      "O valor pago para sindicato é:  500.0\n",
      "O salário liquido é:  7600.0\n"
     ]
    }
   ],
   "source": [
    "valorHora = input('Digite o valor que vc ganha por hora: ')\n",
    "qtdHora = input('Digite a quantidade de horas que vc trabalhou: ')\n",
    "valorHora = float(valorHora)\n",
    "qtdHora = float(qtdHora)\n",
    "salarioBruto = valorHora * qtdHora\n",
    "ir = salarioBruto / 100 * 11\n",
    "inss = salarioBruto / 100 * 8\n",
    "sind = salarioBruto / 100 * 5\n",
    "salarioLiquido = salarioBruto - ir - inss - sind\n",
    "\n",
    "print('O salário bruto é: ',salarioBruto)\n",
    "print('O valor pago no imposto de renda é: ',ir)\n",
    "print('O valor pago no INSS é: ',inss)\n",
    "print('O valor pago para sindicato é: ',sind)\n",
    "print('O salário liquido é: ',salarioLiquido)"
   ]
  },
  {
   "cell_type": "markdown",
   "id": "34b9decb",
   "metadata": {},
   "source": [
    "### Exercício 19 - Faça um programa para uma loja de tintas. O programa deverá pedir o tamanho em metros quadrados da área a ser pintada. Considere que a cobertura da tinta é de 1 litro para cada 3 metros quadrados e que a tinta é vendida em latas de 18 litros, que custam R$ 80,00. Informe ao usuário a quantidades de latas de tinta a serem compradas e o preço total\n",
    " \n",
    "\n",
    "\n"
   ]
  },
  {
   "cell_type": "code",
   "execution_count": null,
   "id": "420a4d2a",
   "metadata": {},
   "outputs": [],
   "source": [
    "tamanhoM = input('Informe a quantidade em metros quadrados da area a ser pintada: ')\n",
    "tamanhoM = float(tamanhoM)\n"
   ]
  }
 ],
 "metadata": {
  "kernelspec": {
   "display_name": "Python 3 (ipykernel)",
   "language": "python",
   "name": "python3"
  },
  "language_info": {
   "codemirror_mode": {
    "name": "ipython",
    "version": 3
   },
   "file_extension": ".py",
   "mimetype": "text/x-python",
   "name": "python",
   "nbconvert_exporter": "python",
   "pygments_lexer": "ipython3",
   "version": "3.10.9"
  }
 },
 "nbformat": 4,
 "nbformat_minor": 5
}
