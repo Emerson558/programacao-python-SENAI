{
 "cells": [
  {
   "cell_type": "code",
   "execution_count": null,
   "metadata": {},
   "outputs": [],
   "source": [
    "import pyautogui   #Gerar a automação das tarefas\n",
    "import time        # Gerenciar o tempo de execusão\n",
    "import os\n",
    "\n",
    "\n",
    "# Pressionar as teclas CR WIN + R\n",
    "time.sleep(0.1)\n",
    "pyautogui.hotkey('win','r')\n",
    "\n",
    "pyautogui.typewrite('https://forms.gle/1rfKi5BEicT6JgZz9 \\n')\n",
    "\n"
   ]
  },
  {
   "cell_type": "code",
   "execution_count": 18,
   "metadata": {},
   "outputs": [],
   "source": [
    "#Criar uma função para abrir um documento\n",
    "\n",
    "def open_file(fileName):\n",
    "    encoding = input('Informe o encoding(ASCII, UTF-16, UTF-8): ')\n",
    "    try:\n",
    "        with open(fileName,'r', encoding= encoding) as file:\n",
    "            contents = file.read()\n",
    "            return contents\n",
    "    except UnicodeDecodeError:\n",
    "        print('ERRO: Enconding especificado diferente do padrão do documento')\n",
    "\n",
    "#--------------------------------------------------------------------------------------\n",
    "\n",
    "caminho = 'C:\\\\Users\\\\FIC\\\\Documents\\\\Emerson-Python\\\\Aula 18\\\\Cap 06  - PyAutoGUI\\\\'\n",
    "arquivo = 'cadastro.txt'\n",
    "dados = open_file(caminho + arquivo)\n",
    "\n",
    "lista_dados = dados.splitlines()\n",
    "\n",
    "for i in range(0,len(lista_dados)):\n",
    "    lista_dados[i] = lista_dados[i].split(';')\n",
    "\n",
    "#lista_dados = lista_dados[0:10] #fatiamento\n",
    "\n",
    "pos = -1\n",
    "\n",
    "#percorrer as listas e identificar a primeira com valor vazio\n",
    "for lista in range(0,len(lista_dados)):\n",
    "    if lista_dados[i][0] == '':\n",
    "        pos = i\n",
    "        break\n",
    "\n",
    "#Identifica a posição da primeira lista vazia e realizar o fatiamento da lista apenas co as listas preenchidas\n",
    "\n",
    "lista_dados = lista_dados[0:pos]"
   ]
  },
  {
   "cell_type": "code",
   "execution_count": null,
   "metadata": {},
   "outputs": [],
   "source": [
    "import pyautogui   #Gerar a automação das tarefas\n",
    "import time        # Gerenciar o tempo de execusão\n",
    "\n",
    "# Pressionar as teclas CR WIN + R\n",
    "time.sleep(0.1)\n",
    "pyautogui.hotkey('win','r')\n",
    "\n",
    "pyautogui.typewrite('https://forms.gle/1rfKi5BEicT6JgZz9 \\n')\n",
    "\n",
    "# Tirar uma soneca\n",
    "time.sleep(2)\n",
    "\n",
    "a, b = pyautogui.locateCenterOnScreen('img\\\\NomeF.PNG')\n",
    "\n",
    "time.sleep(1)\n",
    "pyautogui.click(x = a, y = b)\n",
    "\n",
    "time.sleep(0.5)\n",
    "pyautogui.write('Emerson')  \n",
    "\n",
    "\n"
   ]
  }
 ],
 "metadata": {
  "kernelspec": {
   "display_name": "Python 3",
   "language": "python",
   "name": "python3"
  },
  "language_info": {
   "codemirror_mode": {
    "name": "ipython",
    "version": 3
   },
   "file_extension": ".py",
   "mimetype": "text/x-python",
   "name": "python",
   "nbconvert_exporter": "python",
   "pygments_lexer": "ipython3",
   "version": "3.11.0"
  },
  "orig_nbformat": 4
 },
 "nbformat": 4,
 "nbformat_minor": 2
}
