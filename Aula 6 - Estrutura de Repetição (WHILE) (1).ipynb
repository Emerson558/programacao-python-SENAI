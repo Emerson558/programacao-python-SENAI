{
 "cells": [
  {
   "cell_type": "markdown",
   "id": "a77cbb14",
   "metadata": {},
   "source": [
    "### Exercício 14\n",
    "\n",
    "Faça um programa que peça 10 números inteiros, calcule e mostre a\n",
    "quantidade de números pares e a quantidade de números ímpares."
   ]
  },
  {
   "cell_type": "code",
   "execution_count": 19,
   "id": "c98913d1",
   "metadata": {},
   "outputs": [
    {
     "name": "stdout",
     "output_type": "stream",
     "text": [
      "Digite o 1º número: 2\n",
      "Digite o 2º número: 3\n",
      "Digite o 3º número: 5\n",
      "Digite o 4º número: 6\n",
      "Digite o 5º número: 9\n",
      "Digite o 6º número: 10\n",
      "Digite o 7º número: 23\n",
      "Digite o 8º número: 10\n",
      "Digite o 9º número: 22\n",
      "Digite o 10º número: 36\n",
      "A quantidade de números impares é: 6 e a de pares é: 0\n"
     ]
    }
   ],
   "source": [
    "numeros = []\n",
    "\n",
    "i = 1\n",
    "\n",
    "while i <= 10:\n",
    "    \n",
    "    num = input(f'Digite o {i}º número: ')\n",
    "    \n",
    "    if num.isnumeric():\n",
    "        numeros.append(int(num))\n",
    "    else:\n",
    "        break\n",
    "        \n",
    "    i = i + 1 \n",
    "    \n",
    "numP = 0\n",
    "numI = 0\n",
    "   \n",
    "for x in numeros:\n",
    "    if x%2 != 0:\n",
    "        numP = numP + 1\n",
    "    else:\n",
    "        numI = numI + 1                \n",
    "                \n",
    "print(f'A quantidade de números impares é: {numI} e a de pares é: {numP}')\n"
   ]
  },
  {
   "cell_type": "markdown",
   "id": "8b6b62cb",
   "metadata": {},
   "source": [
    "### Exercício 15\n",
    "A série de Fibonacci é formada pela sequência 1,1,2,3,5,8,13,21,34,55,...\n",
    "Faça um programa capaz de gerar a série até o enésimo termo."
   ]
  },
  {
   "cell_type": "code",
   "execution_count": 35,
   "id": "e8271082",
   "metadata": {},
   "outputs": [
    {
     "name": "stdout",
     "output_type": "stream",
     "text": [
      "Digite a quantidade de termos a serem gerados: 3\n",
      "O valor do contador  0\n",
      "[1, 1]\n",
      "O valor do contador  1\n",
      "[1, 1, 2]\n",
      "O valor do contador  2\n",
      "[1, 1, 2, 3]\n",
      "O valor do contador  3\n",
      "[1, 1, 2, 3, 5]\n",
      "[1, 1, 2, 3, 5]\n"
     ]
    }
   ],
   "source": [
    "qtde_num = int(input('Digite a quantidade de termos a serem gerados: '))\n",
    "\n",
    "serieF = [1] #A séria Fibonacci sempre inicia com 1\n",
    "\n",
    "i = 0\n",
    "\n",
    "while i <= qtde_num: #Repetir o bloco até o valor de i ser igual a qtde_num\n",
    "    \n",
    "    if serieF[0] == 1 and i == 0:\n",
    "        \n",
    "        serieF.append(1)\n",
    "        print('O valor do contador ',i)\n",
    "        print(serieF)\n",
    "    else:\n",
    "        \n",
    "        a = serieF[i] + serieF[i-1]\n",
    "        serieF.append(a)\n",
    "        print('O valor do contador ', i)\n",
    "        print(serieF)        \n",
    "        \n",
    "    i = i + 1\n",
    "    \n",
    "print(serieF)"
   ]
  },
  {
   "cell_type": "markdown",
   "id": "7a825bc7",
   "metadata": {},
   "source": [
    "### Exercício 16 \n",
    "A série de Fibonacci é formada pela sequência\n",
    "0,1,1,2,3,5,8,13,21,34,55,... Faça um programa que gere a série até que o valor seja\n",
    "maior que 500."
   ]
  },
  {
   "cell_type": "code",
   "execution_count": 53,
   "id": "45f07a9c",
   "metadata": {},
   "outputs": [
    {
     "name": "stdout",
     "output_type": "stream",
     "text": [
      "Digite a quantidade de termos a serem gerados: 600\n",
      "[1, 1, 2, 3, 5, 8, 13, 21, 34, 55, 89, 144, 233, 377]\n"
     ]
    }
   ],
   "source": [
    "#qtde_num = int(input('Digite a quantidade de termos a serem gerados: '))\n",
    "\n",
    "serieF = [1,1] #A séria Fibonacci sempre inicia com 1\n",
    "\n",
    "i = 0\n",
    "\n",
    "while serieF[-1] <= 500: #verifica se o ultimo elemento é menor que 500\n",
    "    a = serieF[-1] + serieF[-2] #somando o último elemento + o penúltimo elemento  \n",
    "    \n",
    "    if a > 500:\n",
    "        break #Sair do laço de repetição\n",
    "    \n",
    "    serieF.append(a)\n",
    "\n",
    "print(serieF)"
   ]
  },
  {
   "cell_type": "markdown",
   "id": "a408f7b1",
   "metadata": {},
   "source": [
    "### Exercício 24\n",
    "Faça um programa que calcule o mostre a média aritmética de N notas."
   ]
  },
  {
   "cell_type": "code",
   "execution_count": 80,
   "id": "3980a44b",
   "metadata": {},
   "outputs": [
    {
     "name": "stdout",
     "output_type": "stream",
     "text": [
      "Deseja digitar um número para a lista? Digite [S] para sim e [N] para não s\n",
      "Digite um número para a lista: 10\n",
      "Deseja digitar um número para a lista? Digite [S] para sim e [N] para não s\n",
      "Digite um número para a lista: 6\n",
      "Deseja digitar um número para a lista? Digite [S] para sim e [N] para não n\n",
      "16\n",
      "6\n",
      "2\n",
      "A média dos valores é: 8.0\n"
     ]
    }
   ],
   "source": [
    "numeros = []\n",
    "resp = 's'\n",
    "soma = 0\n",
    "i = 0\n",
    "\n",
    "while resp == 's':\n",
    "    resp = input('Deseja digitar um número para a lista? Digite [S] para sim e [N] para não ')\n",
    "    if resp == 's':\n",
    "        num = int(input('Digite um número para a lista: '))\n",
    "        numeros.append(num)\n",
    "        \n",
    "        soma = num + soma\n",
    "        i = i + 1\n",
    "        \n",
    "media = soma / i\n",
    "\n",
    "print(soma)\n",
    "print(num)\n",
    "print(i)\n",
    "print(f'A média dos valores é: {media}')\n",
    "   \n"
   ]
  },
  {
   "cell_type": "code",
   "execution_count": 56,
   "id": "6c1cda68",
   "metadata": {},
   "outputs": [
    {
     "name": "stdout",
     "output_type": "stream",
     "text": [
      "A média dos valores é: 3.3214285714285716\n"
     ]
    }
   ],
   "source": [
    "notas = [10,8.5,9,3,4,6,6]\n",
    "soma = 0\n",
    "\n",
    "for n in notas:\n",
    "    soma = n + soma\n",
    "    i = i + 1\n",
    "media = soma / i\n",
    "    \n",
    "print(f'A média dos valores é: {media}')"
   ]
  },
  {
   "cell_type": "code",
   "execution_count": null,
   "id": "152968f1",
   "metadata": {},
   "outputs": [],
   "source": []
  }
 ],
 "metadata": {
  "kernelspec": {
   "display_name": "Python 3 (ipykernel)",
   "language": "python",
   "name": "python3"
  },
  "language_info": {
   "codemirror_mode": {
    "name": "ipython",
    "version": 3
   },
   "file_extension": ".py",
   "mimetype": "text/x-python",
   "name": "python",
   "nbconvert_exporter": "python",
   "pygments_lexer": "ipython3",
   "version": "3.10.9"
  }
 },
 "nbformat": 4,
 "nbformat_minor": 5
}
