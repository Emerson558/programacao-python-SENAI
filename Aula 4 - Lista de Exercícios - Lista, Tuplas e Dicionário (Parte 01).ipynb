{
 "cells": [
  {
   "cell_type": "markdown",
   "id": "e1f52b72",
   "metadata": {},
   "source": [
    "## Exercício 01 - Crie uma lista com nomes de 4 times de futebol.\n",
    "\n",
    "a) Palmeiras\n",
    "b) São Paulo\n",
    "c) Santos\n",
    "d) Água Santa\n",
    "e) Acesse o time que está na 3a posição.\n",
    "f) Crie uma lista com duas listas de 3 times de futebol, cada uma de uma\n",
    "divisão diferente."
   ]
  },
  {
   "cell_type": "code",
   "execution_count": 4,
   "id": "ac39bf31",
   "metadata": {},
   "outputs": [
    {
     "data": {
      "text/plain": [
       "'Santos'"
      ]
     },
     "execution_count": 4,
     "metadata": {},
     "output_type": "execute_result"
    }
   ],
   "source": [
    "times = ['Palmeiras', 'Sao Paulo', \n",
    "         'Santos', 'Agua Santa']\n",
    "\n",
    "times[2] #resultado do terceiro colocado\n",
    "\n"
   ]
  },
  {
   "cell_type": "code",
   "execution_count": 6,
   "id": "1aa01669",
   "metadata": {},
   "outputs": [
    {
     "data": {
      "text/plain": [
       "'E'"
      ]
     },
     "execution_count": 6,
     "metadata": {},
     "output_type": "execute_result"
    }
   ],
   "source": [
    "divisoes = [['A','B','C','D'],['E','F','G','H']]\n",
    "divisoes[1][0]"
   ]
  },
  {
   "cell_type": "markdown",
   "id": "1101e551",
   "metadata": {},
   "source": [
    "### Exercício 02 - Crie uma lista com 3 diferentes moedas. Acrescente mais 2 outras moedas à essa mesma lista.\n"
   ]
  },
  {
   "cell_type": "code",
   "execution_count": 17,
   "id": "c60303fd",
   "metadata": {},
   "outputs": [
    {
     "data": {
      "text/plain": [
       "['Real', 'Dollar', 'Euro', 'Libra', 'Bitcoin']"
      ]
     },
     "execution_count": 17,
     "metadata": {},
     "output_type": "execute_result"
    }
   ],
   "source": [
    "moedas = ['Real','Dollar','Euro']\n",
    "moedas.append('Libra')\n",
    "moedas.append('Bitcoin')\n",
    "moedas"
   ]
  },
  {
   "cell_type": "markdown",
   "id": "262fab75",
   "metadata": {},
   "source": [
    "### Exercício 03 - Crie uma string com a lista do exercício anterior."
   ]
  },
  {
   "cell_type": "code",
   "execution_count": 23,
   "id": "fddb569e",
   "metadata": {},
   "outputs": [
    {
     "data": {
      "text/plain": [
       "'Real,Dollar,Euro,Libra,Bitcoin'"
      ]
     },
     "execution_count": 23,
     "metadata": {},
     "output_type": "execute_result"
    }
   ],
   "source": [
    "moedas = ','.join(moedas) ###########Converter a lista em string\n",
    "moedas"
   ]
  },
  {
   "cell_type": "markdown",
   "id": "93033b0d",
   "metadata": {},
   "source": [
    "## Exercício 04 - Agora utilize a string do exercício 6 para recriar uma lista."
   ]
  },
  {
   "cell_type": "code",
   "execution_count": 26,
   "id": "de1f097e",
   "metadata": {},
   "outputs": [
    {
     "data": {
      "text/plain": [
       "['Real', 'Dollar', 'Euro', 'Libra', 'Bitcoin']"
      ]
     },
     "execution_count": 26,
     "metadata": {},
     "output_type": "execute_result"
    }
   ],
   "source": [
    "moedas = texto.split(',') ############Converter a string em lista\n",
    "moedas"
   ]
  },
  {
   "cell_type": "markdown",
   "id": "6a1ca60f",
   "metadata": {},
   "source": [
    "## Exercício 05 - Crie um dicionário chamado cardápio em que as chaves são os dias da semana e os respectivos valores sejam os pratos do dia.\n",
    "• hemacias: 4.71\n",
    "• hemoglobina: 14.1\n",
    "• hematocrito: 41.2\n",
    "• linfócitos: 38\n",
    "• monocitos: 7\n",
    "• resultado: saudável"
   ]
  },
  {
   "cell_type": "code",
   "execution_count": 25,
   "id": "61bd6ff6",
   "metadata": {},
   "outputs": [],
   "source": [
    "\n"
   ]
  },
  {
   "cell_type": "markdown",
   "id": "568d4c2d",
   "metadata": {},
   "source": [
    "### Exercício 06 - Crie um dicionário chamado hemograma que contenha as seguintes chaves:valor.\n"
   ]
  },
  {
   "cell_type": "code",
   "execution_count": null,
   "id": "5e537603",
   "metadata": {},
   "outputs": [],
   "source": []
  },
  {
   "cell_type": "markdown",
   "id": "d590c3a0",
   "metadata": {},
   "source": [
    "### Exercício 07 - Corrija o dicionário acima com monocitos:12."
   ]
  },
  {
   "cell_type": "code",
   "execution_count": null,
   "id": "8a12b6d9",
   "metadata": {},
   "outputs": [],
   "source": []
  }
 ],
 "metadata": {
  "kernelspec": {
   "display_name": "Python 3 (ipykernel)",
   "language": "python",
   "name": "python3"
  },
  "language_info": {
   "codemirror_mode": {
    "name": "ipython",
    "version": 3
   },
   "file_extension": ".py",
   "mimetype": "text/x-python",
   "name": "python",
   "nbconvert_exporter": "python",
   "pygments_lexer": "ipython3",
   "version": "3.10.9"
  }
 },
 "nbformat": 4,
 "nbformat_minor": 5
}
