{
 "cells": [
  {
   "cell_type": "markdown",
   "metadata": {},
   "source": [
    "### Exercício 07\n",
    "\n",
    "Capturar uma região específica da tela"
   ]
  },
  {
   "cell_type": "code",
   "execution_count": null,
   "metadata": {},
   "outputs": [],
   "source": [
    "!pip install pillow"
   ]
  },
  {
   "cell_type": "code",
   "execution_count": null,
   "metadata": {},
   "outputs": [],
   "source": [
    "##Capturar uma região específica da tela\n",
    "\n",
    "import pyautogui\n",
    "import time\n",
    "\n",
    "printScreen = pyautogui.screenshot()\n",
    "printScreen.save('teste.png')"
   ]
  },
  {
   "cell_type": "code",
   "execution_count": null,
   "metadata": {},
   "outputs": [],
   "source": [
    "x, y, largura, altura = 100,100,400,400\n",
    "\n",
    "printScreen2 = pyautogui.screenshot(region=(x, y, largura, altura))\n",
    "printScreen2.save('print_2.png')"
   ]
  },
  {
   "cell_type": "markdown",
   "metadata": {},
   "source": [
    "## Exercício 09\n",
    "\n",
    "Crie um código para abrir o Bloco de notas e digite a frase Hello, World!\n"
   ]
  },
  {
   "cell_type": "code",
   "execution_count": null,
   "metadata": {},
   "outputs": [],
   "source": [
    "import pyautogui #Gerar a automação\n",
    "import time      #Gerenciar o tempo de execusão\n",
    "import os        #Gerenciar os arquivos no sistema operacional\n",
    "\n",
    "#-------------------------------------------------------------------------------------------\n",
    "\n",
    "#Abrir o bloco de notas\n",
    "pyautogui.press('win')\n",
    "\n",
    "time.sleep(0.5)\n",
    "pyautogui.write('Bloco de notas')\n",
    "pyautogui.press('enter')\n",
    "\n",
    "time.sleep(1)\n",
    "\n",
    "texto = 'Hello, baby!'\n",
    "pyautogui.write(texto)\n",
    "\n",
    "time.sleep(1)\n",
    "pyautogui.hotkey('ctrl','s')\n",
    "time.sleep(1)\n",
    "pyautogui.write('teste.txt')\n",
    "pyautogui.press('enter')\n",
    "\n"
   ]
  },
  {
   "cell_type": "markdown",
   "metadata": {},
   "source": [
    "## Exercício Extra\n",
    "\n",
    "Gerar um código para localizar a posição de uma imagem em uma página werb."
   ]
  },
  {
   "cell_type": "code",
   "execution_count": 63,
   "metadata": {},
   "outputs": [
    {
     "name": "stdout",
     "output_type": "stream",
     "text": [
      "Point(x=1073, y=178)\n"
     ]
    }
   ],
   "source": [
    "import pyautogui   #Gerar a automação das tarefas\n",
    "import time        # Gerenciar o tempo de execusão\n",
    "\n",
    "# Pressionar as teclas CR WIN + R\n",
    "time.sleep(0.1)\n",
    "pyautogui.hotkey('win','r')\n",
    "\n",
    "pyautogui.typewrite('https://forms.gle/6T6Umx21BMqqsfHD8 \\n')\n",
    "\n",
    "# Tirar uma soneca\n",
    "time.sleep(2)\n",
    "\n",
    "print(pyautogui.locateCenterOnScreen('img\\\\teste4.png'))\n",
    "\n"
   ]
  }
 ],
 "metadata": {
  "kernelspec": {
   "display_name": "Python 3",
   "language": "python",
   "name": "python3"
  },
  "language_info": {
   "codemirror_mode": {
    "name": "ipython",
    "version": 3
   },
   "file_extension": ".py",
   "mimetype": "text/x-python",
   "name": "python",
   "nbconvert_exporter": "python",
   "pygments_lexer": "ipython3",
   "version": "3.11.0"
  },
  "orig_nbformat": 4
 },
 "nbformat": 4,
 "nbformat_minor": 2
}
