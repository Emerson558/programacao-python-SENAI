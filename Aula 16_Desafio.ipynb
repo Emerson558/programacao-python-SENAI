{
 "cells": [
  {
   "cell_type": "code",
   "execution_count": null,
   "metadata": {},
   "outputs": [],
   "source": [
    "!pip install openpyxl"
   ]
  },
  {
   "cell_type": "code",
   "execution_count": null,
   "metadata": {},
   "outputs": [],
   "source": [
    "#----------------------Importando a bliclioteca\n",
    "import openpyxl\n",
    "\n",
    "#----------------------Abrindo o arquivo txt\n",
    "caminho = 'C:\\\\Users\\\\FIC\\\\Documents\\\\Emerson-Python\\\\Aula 16\\\\Desafio\\\\'\n",
    "\n",
    "#----------------------conexão com o arquivo\n",
    "f = open(caminho + 'Chamados.txt','r',encoding='ANSI')\n",
    "\n",
    "#Leitura do conteúdo do arquivo\n",
    "arquivo = f.read()\n",
    "\n",
    "#Convertendo o conteúdo da variável em uma lista\n",
    "lista_dados = arquivo.splitlines()\n",
    "\n",
    "for i in range(0, len(lista_dados)):\n",
    "    lista_dados[i] = lista_dados[i].split(',')\n",
    "\n",
    "print(lista_dados)\n"
   ]
  },
  {
   "cell_type": "code",
   "execution_count": null,
   "metadata": {},
   "outputs": [],
   "source": [
    "#CRIAÇÃO DA FUNÇÃO OPEN FILE PARA VERIFICAR O ENCONDING DO ARQUIVO\n",
    "\n",
    "def open_file(fileName):\n",
    "    encoding = input('Insira o encoding do arquivo(ASCII, UTF-16, UTF-8 ou ANSI): ')\n",
    "\n",
    "    try:\n",
    "        with open(fileName, 'r', encoding=encoding) as file:\n",
    "            contents = file.read()            \n",
    "            return contents\n",
    "    except UnicodeDecodeError:\n",
    "        print('ERRO: Ocorreu um erro no enconding, selecione o tipo correto. ')\n",
    "    except FileNotFoundError:\n",
    "        print('ERRO: Arquivo não localizado!')\n",
    "#--------------------------------------------------------------------------------------------\n",
    "#TESTANDO O DOCUMENTO\n",
    "#--------------------------------------------------------------------------------------------\n",
    "arquivo = input('Digite o caminho completo do arquivo: ')\n",
    "conteudo = open_file(arquivo)\n",
    "\n",
    "#--------------------------------------------------------------------------------------------\n",
    "\n",
    "import openpyxl as xl\n",
    "\n",
    "#convertendo conteúdo em lista\n",
    "lista_dados = conteudo.splitlines()\n",
    "\n",
    "for i in range(0,len(lista_dados)):\n",
    "    lista_dados[i] = lista_dados[i].split(';')\n",
    "\n",
    "\n",
    "wb = xl.Workbook()\n",
    "ws = wb.active\n",
    "\n",
    "for linha in lista_dados:\n",
    "    ws.append(linha)\n",
    "\n",
    "wb.save('teste.xlsx')\n",
    "\n",
    "\n",
    "\n",
    "\n",
    "\n"
   ]
  },
  {
   "cell_type": "code",
   "execution_count": null,
   "metadata": {},
   "outputs": [],
   "source": []
  }
 ],
 "metadata": {
  "kernelspec": {
   "display_name": "Python 3",
   "language": "python",
   "name": "python3"
  },
  "language_info": {
   "codemirror_mode": {
    "name": "ipython",
    "version": 3
   },
   "file_extension": ".py",
   "mimetype": "text/x-python",
   "name": "python",
   "nbconvert_exporter": "python",
   "pygments_lexer": "ipython3",
   "version": "3.11.0"
  },
  "orig_nbformat": 4
 },
 "nbformat": 4,
 "nbformat_minor": 2
}
