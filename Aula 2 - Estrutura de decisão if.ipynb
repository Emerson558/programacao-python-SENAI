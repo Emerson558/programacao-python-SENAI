{
 "cells": [
  {
   "cell_type": "markdown",
   "id": "96e6f46f",
   "metadata": {},
   "source": [
    "### Exercício 01 – Crie uma variável chamada \"idade\" e atribua um valor inteiro a ela. Verifique se a idade é maior ou igual a 18 e imprima \"Maior de idade\" ou \"Menor de idade\" de acordo com a condição.\n",
    "\n",
    "\n"
   ]
  },
  {
   "cell_type": "code",
   "execution_count": 1,
   "id": "b4afb2d8",
   "metadata": {},
   "outputs": [
    {
     "name": "stdout",
     "output_type": "stream",
     "text": [
      "Imforme a idade12\n",
      "É Menor de idade\n"
     ]
    }
   ],
   "source": [
    "idade = input('Imforme a idade')\n",
    "idade = int(idade)\n",
    "\n",
    "if idade > 17:\n",
    "    print('É Maior de idade')\n",
    "else:\n",
    "    print('É Menor de idade')"
   ]
  },
  {
   "cell_type": "markdown",
   "id": "105349a5",
   "metadata": {},
   "source": [
    "### Exercício 02 - Crie uma variável chamada \"número\" e atribua um valor inteiro a ela. Verifique se o número é positivo, negativo ou zero e imprima a mensagem correspondente.\n",
    "\n"
   ]
  },
  {
   "cell_type": "code",
   "execution_count": null,
   "id": "523c506d",
   "metadata": {},
   "outputs": [],
   "source": [
    "numero = input('Digite um número')\n",
    "numero = int(numero)\n",
    "\n",
    "if numero > 0:\n",
    "    print('O número: ',numero,' é positivo')\n",
    "elif numero < 0:\n",
    "    print('O número: ',numero,' é positivo')\n",
    "else:\n",
    "    print(numero,' é neutro')"
   ]
  },
  {
   "cell_type": "markdown",
   "id": "fe602476",
   "metadata": {},
   "source": [
    "### Exercício 03 - Crie duas variáveis, \"nota1\" e \"nota2\", e atribua valores numéricos a elas. Verifique se a média das notas é maior ou igual a 7 e imprima \"Aprovado\" ou \"Reprovado\" de acordo com a condição.\n",
    " \n"
   ]
  },
  {
   "cell_type": "code",
   "execution_count": 2,
   "id": "09c4e2f1",
   "metadata": {},
   "outputs": [
    {
     "name": "stdout",
     "output_type": "stream",
     "text": [
      "Digite a primeira nota: 8\n",
      "Digite a segunda nota: 5\n",
      "Você teve uma média de:  6.5 e está reprovado(a)\n"
     ]
    }
   ],
   "source": [
    "nota1 = input('Digite a primeira nota: ')\n",
    "nota1 = float(nota1)\n",
    "nota2 = input('Digite a segunda nota: ')\n",
    "nota2 = float(nota2)\n",
    "\n",
    "media = (nota1 + nota2) / 2\n",
    "\n",
    "if media >= 7:\n",
    "    print('Você teve uma média de: ',media, 'e está aprovado(a)')\n",
    "else:\n",
    "    print('Você teve uma média de: ',media, 'e está reprovado(a)')\n"
   ]
  },
  {
   "cell_type": "markdown",
   "id": "061dc29c",
   "metadata": {},
   "source": [
    "### Exercício 04 - Crie uma variável chamada \"idade\" e atribua um valor inteiro a ela. Verifique se a idade está dentro do intervalo de 18 a 30 (inclusive) e imprima a mensagem \"Idade válida\" ou \"Idade inválida\" de acordo com a condição.\n",
    "\n"
   ]
  },
  {
   "cell_type": "code",
   "execution_count": 5,
   "id": "bfd82a91",
   "metadata": {},
   "outputs": [
    {
     "name": "stdout",
     "output_type": "stream",
     "text": [
      "Digite a idade: 30\n",
      "30 é uma Idade válida\n"
     ]
    }
   ],
   "source": [
    "idade = input('Digite a idade: ')\n",
    "idade = int(idade)\n",
    "\n",
    "if idade > 18 and idade <= 30:\n",
    "    print(idade,'é uma Idade válida')\n",
    "else:\n",
    "    print(idade, 'é uma inválida')"
   ]
  },
  {
   "cell_type": "markdown",
   "id": "e1bbd9de",
   "metadata": {},
   "source": [
    "### Exercício 05 - Crie uma variável chamada \"numero\" e atribua um valor inteiro a ela. Verifique se o número é par ou ímpar e imprima a mensagem correspondente.\n"
   ]
  },
  {
   "cell_type": "code",
   "execution_count": 25,
   "id": "3a2c9db7",
   "metadata": {},
   "outputs": [
    {
     "name": "stdout",
     "output_type": "stream",
     "text": [
      "Por favor, informe um número inteiro: 5\n",
      "Esse número é impar!!!\n"
     ]
    }
   ],
   "source": [
    "numero = input('Por favor, informe um número inteiro: ')\n",
    "numero = int(numero)\n",
    "\n",
    "numero = numero / 2\n",
    "\n",
    "isInt = int(numero) == numero\n",
    "\n",
    "if isInt == True:\n",
    "    print(\"Ésse número é par!!!\")\n",
    "else:\n",
    "    print('Esse número é impar!!!')    \n",
    "    "
   ]
  },
  {
   "cell_type": "markdown",
   "id": "48309373",
   "metadata": {},
   "source": [
    "### Exercício 06 - Crie uma variável chamada \"horario\" e atribua um valor inteiro representando a hora do dia (em formato 24 horas). Verifique se o horário está dentro do período da manhã (das 6h às 12h), da tarde (das 12h às 18h) ou da noite (das 18h às 23h) e imprima a mensagem correspondente.\n",
    " \n",
    "\n",
    "\n"
   ]
  },
  {
   "cell_type": "code",
   "execution_count": 32,
   "id": "67eaf192",
   "metadata": {},
   "outputs": [
    {
     "name": "stdout",
     "output_type": "stream",
     "text": [
      "Digite um horário: 13\n",
      "Esse horário é o período da tarde!!!\n"
     ]
    }
   ],
   "source": [
    "horario = input('Digite um horário: ')\n",
    "horario = int(horario)\n",
    "\n",
    "if horario >= 6 and horario < 12:\n",
    "    print('Esse horário é o período da manhã!!!')\n",
    "elif horario >= 12 and horario < 18:\n",
    "    print('Esse horário é o período da tarde!!!')\n",
    "elif horario >= 18 and horario < 23:\n",
    "    print('Esse hrário é período da noite!!!')\n",
    "else:\n",
    "    print('Horário inválido')\n"
   ]
  },
  {
   "cell_type": "markdown",
   "id": "04b3c8a1",
   "metadata": {},
   "source": [
    "### Exercício 07 - Crie uma variável chamada \"peso\" e atribua um valor numérico a ela. Verifique se o peso está dentro do intervalo de 50 a 100 (inclusive) e imprima a mensagem \"Peso válido\" ou \"Peso inválido\" de acordo com a condição.\n",
    " \n",
    "\n"
   ]
  },
  {
   "cell_type": "code",
   "execution_count": 30,
   "id": "ff435284",
   "metadata": {},
   "outputs": [
    {
     "name": "stdout",
     "output_type": "stream",
     "text": [
      "Digite um peso: 4\n",
      "Esse peso não é valido!!!!!!\n"
     ]
    }
   ],
   "source": [
    "peso = input('Digite um peso: ')\n",
    "peso = float(peso)\n",
    "if peso > 50 and peso <= 100:\n",
    "    print('Esse peso é valido!!!!!!!!')\n",
    "else:\n",
    "    print('Esse peso não é valido!!!!!!')\n",
    "    "
   ]
  },
  {
   "cell_type": "markdown",
   "id": "22798d03",
   "metadata": {},
   "source": [
    "### Exercício 08 - Crie uma variável chamada \"numero\" e atribua um valor inteiro a ela. Verifique se o número é múltiplo de 3 e de 5 ao mesmo tempo e imprima a mensagem correspondente.\n",
    " \n"
   ]
  },
  {
   "cell_type": "code",
   "execution_count": 36,
   "id": "8b69acce",
   "metadata": {},
   "outputs": [
    {
     "name": "stdout",
     "output_type": "stream",
     "text": [
      "Digite um número inteiro90\n",
      "Esse número é múltiplo!!!\n"
     ]
    }
   ],
   "source": [
    "numero = input('Digite um número inteiro')\n",
    "numero = int(numero)\n",
    "if numero < 15:\n",
    "    print('Esse número não é múltiplo!!!')\n",
    "elif numero%3 == 0 and numero%5 == 0:\n",
    "    print('Esse número é múltiplo!!!')"
   ]
  },
  {
   "cell_type": "markdown",
   "id": "12ebf6a2",
   "metadata": {},
   "source": [
    "### Exercício 09 - Crie uma variável chamada \"ano\" e atribua um valor inteiro representando um ano. Verifique se o ano é bissexto (divisível por 4, mas não por 100, exceto se for divisível por 400) e imprima a mensagem correspondente.\n",
    " \n",
    "\n"
   ]
  },
  {
   "cell_type": "code",
   "execution_count": 39,
   "id": "d787f47c",
   "metadata": {},
   "outputs": [
    {
     "name": "stdout",
     "output_type": "stream",
     "text": [
      "Digite um ano: 2020\n",
      "Esse ano é bissexto\n"
     ]
    }
   ],
   "source": [
    "ano = int(input('Digite um ano: '))\n",
    "if (ano%4 == 0 and ano%100 != 0) or (ao%400 == 0):\n",
    "    print(f'esse ano {ano} é bissexto')\n",
    "else:\n",
    "    print(f'Esse ano {ano} não é bissexto')"
   ]
  },
  {
   "cell_type": "markdown",
   "id": "c1c80eec",
   "metadata": {},
   "source": [
    "### Exercício 10 - Crie uma variável chamada \"salario\" e atribua um valor numérico a ela. Verifique se o salário é maior do que 1000 e menor do que 2000 ao mesmo tempo e imprima a mensagem correspondente.\n",
    "\n",
    "\n"
   ]
  },
  {
   "cell_type": "code",
   "execution_count": 42,
   "id": "6e80a09d",
   "metadata": {},
   "outputs": [
    {
     "name": "stdout",
     "output_type": "stream",
     "text": [
      "Digite um salário: 1500\n",
      "Esse salário: 1500.0 está entre 1000 a 2000\n"
     ]
    }
   ],
   "source": [
    "salario = float(input('Digite um salário: '))\n",
    "if salario > 1000 and salario < 2000:\n",
    "    print(f'Esse salário: {salario} está entre 1000 a 2000')\n",
    "else:\n",
    "    print(f'Esse salário: {salario} não está entre 1000 e 2000')\n",
    "    "
   ]
  },
  {
   "cell_type": "markdown",
   "id": "41d16203",
   "metadata": {},
   "source": [
    "### Exercício 11 - Faça um Programa que peça dois números e imprima o maior deles."
   ]
  },
  {
   "cell_type": "code",
   "execution_count": 44,
   "id": "98ee98b2",
   "metadata": {},
   "outputs": [
    {
     "name": "stdout",
     "output_type": "stream",
     "text": [
      "Digite o primeiro número: 25\n",
      "Digite o segundo número: 25\n",
      "Os números 25.0 e 25.0 são iguais!\n"
     ]
    }
   ],
   "source": [
    "num1 = float(input('Digite o primeiro número: '))\n",
    "num2 = float(input('Digite o segundo número: '))\n",
    "\n",
    "if num1 > num2:\n",
    "    print(f'O maior número é o: {num1}')\n",
    "elif num2 > num1:\n",
    "    print(f'O maior número é o: {num2}')\n",
    "else:\n",
    "    print(f'Os números {num1} e {num2} são iguais!')\n"
   ]
  },
  {
   "cell_type": "markdown",
   "id": "376b88fc",
   "metadata": {},
   "source": [
    "### Exercício 12 - Faça um Programa que peça um valor e mostre na tela se o valor é positivo ou negativo.\n"
   ]
  },
  {
   "cell_type": "code",
   "execution_count": 45,
   "id": "3c5b9855",
   "metadata": {},
   "outputs": [
    {
     "name": "stdout",
     "output_type": "stream",
     "text": [
      "Digite um valor: 0\n",
      "O numero 0.0 é nulo!!\n"
     ]
    }
   ],
   "source": [
    "valor = float(input('Digite um valor: '))\n",
    "if valor > 0:\n",
    "    print(f'O número {valor} é positivo!')\n",
    "elif valor < 0:\n",
    "    print(f'O número {valor} é negativo!')\n",
    "else:\n",
    "    print(f'O numero {valor} é nulo!!')\n",
    "    \n",
    "    "
   ]
  },
  {
   "cell_type": "markdown",
   "id": "2f830609",
   "metadata": {},
   "source": [
    "### Exercício 13 - Faça um Programa que verifique se uma letra digitada é \"F\" ou \"M\". Conforme a letra escrever: F - Feminino, M - Masculino, Sexo Inválido\n"
   ]
  },
  {
   "cell_type": "code",
   "execution_count": 47,
   "id": "82f2645d",
   "metadata": {},
   "outputs": [
    {
     "name": "stdout",
     "output_type": "stream",
     "text": [
      "Digite a letra [F] para o genero feminino e [M] para o genero Masculino8\n",
      "Seu sexo é:  Letra inválida!!!!!!!\n"
     ]
    }
   ],
   "source": [
    "genero = input('Digite a letra [F] para o genero feminino e [M] para o genero Masculino')\n",
    "genero = genero.upper()\n",
    "if genero == 'M':\n",
    "    genero = 'Masculino'\n",
    "elif genero == 'F':\n",
    "    genero = 'Feminino'\n",
    "else:\n",
    "    genero = 'Letra inválida!!!!!!!'\n",
    "    \n",
    "print('Seu sexo é: ',genero)"
   ]
  },
  {
   "cell_type": "markdown",
   "id": "4a64eeb0",
   "metadata": {},
   "source": [
    "### Exercício 14 - Faça um Programa que verifique se uma letra digitada é vogal ou consoante.\n"
   ]
  },
  {
   "cell_type": "code",
   "execution_count": 50,
   "id": "ca86920c",
   "metadata": {},
   "outputs": [
    {
     "name": "stdout",
     "output_type": "stream",
     "text": [
      "Digite uma letra8\n",
      "Consoante\n"
     ]
    }
   ],
   "source": [
    "letra = input('Digite uma letra')\n",
    "letra = letra.upper()\n",
    "\n",
    "if letra =='A' or letra =='E' or letra=='I' or letra=='O' or letra=='U':\n",
    "    print('Vogal')\n",
    "else:\n",
    "    print('Consoante')"
   ]
  },
  {
   "cell_type": "markdown",
   "id": "92e5b61b",
   "metadata": {},
   "source": [
    "## Exercício 15 - Faça um programa para a leitura de duas notas parciais de um aluno. O programa deve calcular a média alcançada por aluno e apresentar:\n",
    "\n",
    "# • A mensagem \"Aprovado\", se a média alcançada for maior ou igual a sete;\n",
    "# • A mensagem \"Reprovado\", se a média for menor do que sete;\n",
    "# • A mensagem \"Aprovado com Distinção\", se a média for igual a dez.\n"
   ]
  },
  {
   "cell_type": "code",
   "execution_count": 51,
   "id": "6143dd20",
   "metadata": {},
   "outputs": [
    {
     "name": "stdout",
     "output_type": "stream",
     "text": [
      "Digite a Primeira nota: 10\n",
      "Digite a Segunda nota: 2\n",
      "O Aluno está:  Reprovado\n"
     ]
    }
   ],
   "source": [
    "Nota1 = input('Digite a Primeira nota: ')\n",
    "Nota2 = input('Digite a Segunda nota: ')\n",
    "Nota1 = float(Nota1)\n",
    "Nota2 = float(Nota2)\n",
    "Media = (Nota1 + Nota2)/2\n",
    "\n",
    "if Media == 10:\n",
    "    Resposta = 'Aprovado com Distinção'\n",
    "elif Media >= 7:\n",
    "    Resposta = 'Aprovado'\n",
    "else:\n",
    "    Resposta = 'Reprovado'\n",
    "    \n",
    "\n",
    "print('O Aluno está: ', Resposta)"
   ]
  },
  {
   "cell_type": "markdown",
   "id": "cec95783",
   "metadata": {},
   "source": [
    "### Exercício 16 - Faça um Programa que leia três números e mostre o maior deles."
   ]
  },
  {
   "cell_type": "code",
   "execution_count": 55,
   "id": "7d693d5c",
   "metadata": {},
   "outputs": [
    {
     "name": "stdout",
     "output_type": "stream",
     "text": [
      "Digite o primeiro número: 5\n",
      "Digite o segundo número: 3\n",
      "Digite o terceiro número: 1\n",
      "O Maior Número é: 5.0\n"
     ]
    }
   ],
   "source": [
    "num1 = float(input('Digite o primeiro número: '))\n",
    "num2 = float(input('Digite o segundo número: '))\n",
    "num3 = float(input('Digite o terceiro número: '))\n",
    "\n",
    "if num1 > num2 and num1 > num3:\n",
    "    NumeroMaior = num1\n",
    "elif num2 > num1 and num2 > num3:\n",
    "    NumeroMaior = num2\n",
    "else:\n",
    "    NumeroMaior = num3\n",
    "\n",
    "NumeroMaior = float(NumeroMaior)   \n",
    "print(f'O Maior Número é: {NumeroMaior}')"
   ]
  },
  {
   "cell_type": "markdown",
   "id": "b5b459da",
   "metadata": {},
   "source": [
    "### Exercício 17 - Faça um Programa que leia três números e mostre o maior e o menor deles.\n",
    "\n"
   ]
  },
  {
   "cell_type": "code",
   "execution_count": 57,
   "id": "663c07ed",
   "metadata": {},
   "outputs": [
    {
     "name": "stdout",
     "output_type": "stream",
     "text": [
      "Digite o Primeiro Número: 2\n",
      "Digite o Segundo Número: 6\n",
      "Digite o Terceiro Número: 1\n",
      "O Maior Número é:  6.0 e o menor valor é o:  1.0\n"
     ]
    }
   ],
   "source": [
    "Numero1 = float(input('Digite o Primeiro Número: '))\n",
    "Numero2 = float(input('Digite o Segundo Número: '))\n",
    "Numero3 = float(input('Digite o Terceiro Número: '))\n",
    "\n",
    "if Numero1 > Numero2 and Numero1 > Numero3:\n",
    "    NumeroMaior = Numero1\n",
    "elif Numero2 > Numero1 and Numero2 > Numero3:\n",
    "    NumeroMaior = Numero2\n",
    "else:\n",
    "    NumeroMaior = Numero3\n",
    "\n",
    "if Numero1 < Numero2 and Numero1 < Numero3:\n",
    "    NumeroMenor = Numero1\n",
    "elif Numero2 < Numero1 and Numero2 < Numero3:\n",
    "    NumeroMenor = Numero2\n",
    "else:\n",
    "    NumeroMenor = Numero3\n",
    "\n",
    "NumeroMaior = float(NumeroMaior)   \n",
    "print('O Maior Número é: ', NumeroMaior, 'e o menor valor é o: ',NumeroMenor)"
   ]
  },
  {
   "cell_type": "markdown",
   "id": "29d691b9",
   "metadata": {},
   "source": [
    "## Exercício 18 - Faça um programa que pergunte o preço de três produtos e informe qual produto você deve comprar, sabendo que a decisão é sempre pelo mais barato.\n"
   ]
  },
  {
   "cell_type": "code",
   "execution_count": null,
   "id": "f5209042",
   "metadata": {},
   "outputs": [],
   "source": [
    "prod1 = float(input('Informe o valor do primeiro produto: '))\n",
    "prod2 = float(input('Informe o valor do segundo produto: '))\n",
    "prod3 = float(input('Informe o valor do terceiro produto: '))\n",
    "\n"
   ]
  }
 ],
 "metadata": {
  "kernelspec": {
   "display_name": "Python 3 (ipykernel)",
   "language": "python",
   "name": "python3"
  },
  "language_info": {
   "codemirror_mode": {
    "name": "ipython",
    "version": 3
   },
   "file_extension": ".py",
   "mimetype": "text/x-python",
   "name": "python",
   "nbconvert_exporter": "python",
   "pygments_lexer": "ipython3",
   "version": "3.10.9"
  }
 },
 "nbformat": 4,
 "nbformat_minor": 5
}
