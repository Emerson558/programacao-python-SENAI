{
 "cells": [
  {
   "cell_type": "markdown",
   "metadata": {},
   "source": [
    "## Aula 11 - Explicação"
   ]
  },
  {
   "cell_type": "markdown",
   "metadata": {},
   "source": [
    "1. Escreva uma função Python para encontrar o maior valor entre 3 números"
   ]
  },
  {
   "cell_type": "code",
   "execution_count": 6,
   "metadata": {},
   "outputs": [],
   "source": [
    "#Recebe dois valores e identifica o maior entre eles.\n",
    "def max_dois_valores(num1, num2):\n",
    "    if num1 > num2:\n",
    "        return num1\n",
    "    else:\n",
    "        return num2\n",
    "\n",
    "# Recebe três valores, primeiro, identifica o maior entre dois números\n",
    "# com auxílio da funcão anterior, após isso, gera um comparativo entre o resultado\n",
    "# com o número 1, e determina o maoir valor\n",
    "\n",
    "def max_tres_valores(num1, num2, num3):\n",
    "    return max_dois_valores(num1, max_dois_valores(num2, num3))"
   ]
  },
  {
   "cell_type": "code",
   "execution_count": null,
   "metadata": {},
   "outputs": [
    {
     "data": {
      "text/plain": [
       "30"
      ]
     },
     "execution_count": 3,
     "metadata": {},
     "output_type": "execute_result"
    }
   ],
   "source": [
    "max_dois_valores(1, 30)"
   ]
  },
  {
   "cell_type": "markdown",
   "metadata": {},
   "source": [
    "### Entradas e Saídas das Funções Personalizadas"
   ]
  },
  {
   "cell_type": "code",
   "execution_count": 1,
   "metadata": {},
   "outputs": [
    {
     "name": "stdout",
     "output_type": "stream",
     "text": [
      "O valor de seus rendimentos é R$:  15000.0\n"
     ]
    }
   ],
   "source": [
    "def calcular_pagamento(qtde_horas, valor_hora):\n",
    "    horas = float(qtde_horas)\n",
    "    valorhora = float(valor_hora)\n",
    "\n",
    "    if horas <= 40:\n",
    "        salario = horas * valorhora\n",
    "    else:\n",
    "        h_exced = horas - 40\n",
    "        salario = 40 * valorhora + (h_exced * 1.5 * valorhora)\n",
    "\n",
    "    return salario\n",
    "\n",
    "str_horas = input('Digite as horas trabalhadas: ')\n",
    "str_valor_hora = input('Digite o valor por hora: ')\n",
    "\n",
    "salario_total = calcular_pagamento(qtde_horas = str_horas, valor_hora = str_valor_hora)\n",
    "print('O valor de seus rendimentos é R$: ', salario_total)\n",
    "\n",
    "#Aprendemos a criar uma função, solicitar a entrada e dados e fornecer as saídas"
   ]
  },
  {
   "cell_type": "code",
   "execution_count": null,
   "metadata": {},
   "outputs": [],
   "source": []
  }
 ],
 "metadata": {
  "kernelspec": {
   "display_name": "Python 3",
   "language": "python",
   "name": "python3"
  },
  "language_info": {
   "codemirror_mode": {
    "name": "ipython",
    "version": 3
   },
   "file_extension": ".py",
   "mimetype": "text/x-python",
   "name": "python",
   "nbconvert_exporter": "python",
   "pygments_lexer": "ipython3",
   "version": "3.11.0"
  },
  "orig_nbformat": 4
 },
 "nbformat": 4,
 "nbformat_minor": 2
}
