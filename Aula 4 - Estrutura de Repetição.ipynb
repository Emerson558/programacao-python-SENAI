{
 "cells": [
  {
   "cell_type": "markdown",
   "id": "55de5ab1",
   "metadata": {},
   "source": [
    "Exemplo 01 - For simples"
   ]
  },
  {
   "cell_type": "code",
   "execution_count": 1,
   "id": "98dc701e",
   "metadata": {},
   "outputs": [
    {
     "name": "stdout",
     "output_type": "stream",
     "text": [
      "abacate\n",
      "pera\n",
      "abacaxi\n",
      "Fim do For\n"
     ]
    }
   ],
   "source": [
    "frutas = ['abacate', 'pera','abacaxi']\n",
    "for fruta in frutas:\n",
    "    print(fruta)\n",
    "print('Fim do For')"
   ]
  },
  {
   "cell_type": "markdown",
   "id": "4758bde2",
   "metadata": {},
   "source": [
    "Exemplo 02 - For e condicional"
   ]
  },
  {
   "cell_type": "code",
   "execution_count": 11,
   "id": "474b5f12",
   "metadata": {},
   "outputs": [
    {
     "name": "stdout",
     "output_type": "stream",
     "text": [
      "abacate\n",
      "abacaxi\n"
     ]
    }
   ],
   "source": [
    "frutas = ['abacate', 'pera','abacaxi']\n",
    "for fruta in frutas:\n",
    "    if fruta.startswith('a'):\n",
    "        print(fruta)"
   ]
  },
  {
   "cell_type": "markdown",
   "id": "059a2ea9",
   "metadata": {},
   "source": [
    "Exemplo 03 - For acumulador"
   ]
  },
  {
   "cell_type": "code",
   "execution_count": 15,
   "id": "3b50effb",
   "metadata": {},
   "outputs": [
    {
     "name": "stdout",
     "output_type": "stream",
     "text": [
      "15\n"
     ]
    }
   ],
   "source": [
    "listaNumeros = [1,2,3,4,5]\n",
    "soma = 0\n",
    "for numero in listaNumeros:\n",
    "    soma = soma + numero\n",
    "print(soma)"
   ]
  },
  {
   "cell_type": "code",
   "execution_count": 31,
   "id": "afc45ae7",
   "metadata": {},
   "outputs": [
    {
     "name": "stdout",
     "output_type": "stream",
     "text": [
      "Digite um numero entre 2 e 15 2\n",
      "2 x 1  =  2\n",
      "2 x 2  =  4\n",
      "2 x 3  =  6\n",
      "2 x 4  =  8\n",
      "2 x 5  =  10\n",
      "2 x 6  =  12\n",
      "2 x 7  =  14\n",
      "2 x 8  =  16\n",
      "2 x 9  =  18\n",
      "2 x 10  =  20\n"
     ]
    }
   ],
   "source": [
    "num = input('Digite um numero entre 2 e 15 ')\n",
    "num = int(num)\n",
    "multiplos = [1,2,3,4,5,6,7,8,9,10]\n",
    "valor = 0\n",
    "alg = 0\n",
    "for valor in multiplos:\n",
    "    valor = num * valor\n",
    "    alg = alg + 1\n",
    "    print(num, 'x',alg,' = ',valor)"
   ]
  },
  {
   "cell_type": "markdown",
   "id": "84b186e1",
   "metadata": {},
   "source": [
    "2. Faça um programa, utilizando FOR, que mostre na tela de 0 a N, em que N é o limite inserido pelo usuário"
   ]
  },
  {
   "cell_type": "code",
   "execution_count": 44,
   "id": "80965f37",
   "metadata": {},
   "outputs": [
    {
     "name": "stdout",
     "output_type": "stream",
     "text": [
      "Insira um número maior que zero: 3\n",
      "0\n",
      "1\n",
      "2\n",
      "3\n",
      "4\n",
      "5\n",
      "6\n",
      "7\n",
      "8\n",
      "9\n",
      "10\n"
     ]
    }
   ],
   "source": [
    "num = input('Insira um número maior que zero: ')\n",
    "num = int(numero)\n",
    "\n",
    "numeros = [0,1,2,3,4,5,6,7,8,9,10,11,12,13,14,15,16,17,18,19,20]\n",
    "\n",
    "for valor in numeros:\n",
    "    if valor <= num:\n",
    "        print(valor)"
   ]
  },
  {
   "cell_type": "code",
   "execution_count": 46,
   "id": "61b9349a",
   "metadata": {},
   "outputs": [
    {
     "name": "stdout",
     "output_type": "stream",
     "text": [
      "6\n"
     ]
    }
   ],
   "source": [
    "#A estrutura do while requer uma variável de controle\n",
    "# que neste caso é a consição\n",
    "\n",
    "condicao = 1\n",
    "soma = 0\n",
    "\n",
    "while condicao <= 5:\n",
    "    soma = soma + condicao\n",
    "    condicao = condicao + 1\n",
    "print(condicao)"
   ]
  },
  {
   "cell_type": "code",
   "execution_count": null,
   "id": "c1b249f8",
   "metadata": {},
   "outputs": [],
   "source": [
    "condicao = 5\n",
    "soma = 0\n",
    "while condicao >= 0:\n",
    "    soma = soma + condicao\n",
    "    condicao = condicao - 1\n",
    "print(soma)    \n"
   ]
  },
  {
   "cell_type": "markdown",
   "id": "f882b97e",
   "metadata": {},
   "source": [
    "# Loop WHILE"
   ]
  },
  {
   "cell_type": "markdown",
   "id": "e5c51494",
   "metadata": {},
   "source": [
    "1. Faça um programa, utilizando while, que mostre na tela os números de 0 a 100;"
   ]
  },
  {
   "cell_type": "code",
   "execution_count": 51,
   "id": "c3dd5d7c",
   "metadata": {},
   "outputs": [
    {
     "name": "stdout",
     "output_type": "stream",
     "text": [
      "0\n",
      "1\n",
      "2\n",
      "3\n",
      "4\n",
      "5\n",
      "6\n",
      "7\n",
      "8\n",
      "9\n",
      "10\n",
      "11\n",
      "12\n",
      "13\n",
      "14\n",
      "15\n",
      "16\n",
      "17\n",
      "18\n",
      "19\n",
      "20\n",
      "21\n",
      "22\n",
      "23\n",
      "24\n",
      "25\n",
      "26\n",
      "27\n",
      "28\n",
      "29\n",
      "30\n",
      "31\n",
      "32\n",
      "33\n",
      "34\n",
      "35\n",
      "36\n",
      "37\n",
      "38\n",
      "39\n",
      "40\n",
      "41\n",
      "42\n",
      "43\n",
      "44\n",
      "45\n",
      "46\n",
      "47\n",
      "48\n",
      "49\n",
      "50\n",
      "51\n",
      "52\n",
      "53\n",
      "54\n",
      "55\n",
      "56\n",
      "57\n",
      "58\n",
      "59\n",
      "60\n",
      "61\n",
      "62\n",
      "63\n",
      "64\n",
      "65\n",
      "66\n",
      "67\n",
      "68\n",
      "69\n",
      "70\n",
      "71\n",
      "72\n",
      "73\n",
      "74\n",
      "75\n",
      "76\n",
      "77\n",
      "78\n",
      "79\n",
      "80\n",
      "81\n",
      "82\n",
      "83\n",
      "84\n",
      "85\n",
      "86\n",
      "87\n",
      "88\n",
      "89\n",
      "90\n",
      "91\n",
      "92\n",
      "93\n",
      "94\n",
      "95\n",
      "96\n",
      "97\n",
      "98\n",
      "99\n",
      "100\n",
      "Terminou!!!!!\n"
     ]
    }
   ],
   "source": [
    "i = 0\n",
    "\n",
    "while i <= 100:\n",
    "    print(i)\n",
    "    i = i + 1\n",
    "    \n",
    "    \n",
    "print('Terminou!!!!!')"
   ]
  },
  {
   "cell_type": "markdown",
   "id": "dac07c1b",
   "metadata": {},
   "source": [
    "2. Faça um programa, utilizando while, que mostre na tela de 0 até N, em que N é o limite inserido pelo usuário."
   ]
  },
  {
   "cell_type": "code",
   "execution_count": 56,
   "id": "c3b07076",
   "metadata": {},
   "outputs": [
    {
     "name": "stdout",
     "output_type": "stream",
     "text": [
      "Digite um valor maior que zero: 3\n",
      "0\n",
      "1\n",
      "2\n",
      "3\n"
     ]
    }
   ],
   "source": [
    "num = input('Digite um valor maior que zero: ')\n",
    "num = int(num)\n",
    "i = 0\n",
    "while i <= num:\n",
    "    print(i)\n",
    "    i = i + 1\n"
   ]
  },
  {
   "cell_type": "markdown",
   "id": "2b7c0f49",
   "metadata": {},
   "source": [
    "3. Faça um programa, utilizando while e listas, que permita o usuário escrever o nome de cinco pessoas e os mostre na tela."
   ]
  },
  {
   "cell_type": "code",
   "execution_count": 80,
   "id": "ad779681",
   "metadata": {},
   "outputs": [
    {
     "name": "stdout",
     "output_type": "stream",
     "text": [
      "Digite o nome da 1ª pessoa: e\n",
      "Digite o nome da 2ª pessoa: r\n",
      "Digite o nome da 3ª pessoa: g\n",
      "Digite o nome da 4ª pessoa: d\n",
      "Digite o nome da 5ª pessoa: \n",
      "['e', 'r', 'g', 'd', '']\n"
     ]
    }
   ],
   "source": [
    "#iniciando uma lista em branco\n",
    "lista = []\n",
    "\n",
    "#variavel de controle\n",
    "\n",
    "i = 1\n",
    "\n",
    "#loop while\n",
    "\n",
    "while i <= 5:\n",
    "    nome = input('Digite o nome da '+ str(i) + 'ª pessoa: ')\n",
    "    lista.append(nome)\n",
    "    i = i + 1\n",
    "    \n",
    "print(lista)\n",
    "\n",
    "\n",
    "\n",
    "\n",
    "\n"
   ]
  },
  {
   "cell_type": "markdown",
   "id": "c076b5dd",
   "metadata": {},
   "source": [
    "4. Faça um programa, utilizando while, que permita o usuário fazer contas de adição enquanto quiser."
   ]
  },
  {
   "cell_type": "code",
   "execution_count": 83,
   "id": "1bedf5aa",
   "metadata": {},
   "outputs": [
    {
     "name": "stdout",
     "output_type": "stream",
     "text": [
      "Deseja fazer uma soma? Obs.: Digite S para Sim e N para Não: s\n",
      "Digite o 1º Numero para somar: 10\n",
      "Digite o 2º Numero para somar: 20\n",
      "O resultado da soma é:  30\n",
      "Deseja fazer uma soma? Obs.: Digite S para Sim e N para Não: n\n"
     ]
    }
   ],
   "source": [
    "\n",
    "pergunta = input('Deseja fazer uma soma? Obs.: Digite S para Sim e N para Não: ')\n",
    "pergunta = pergunta.upper()\n",
    "\n",
    "while pergunta == \"S\":\n",
    "    somaNum1 = input('Digite o 1º Numero para somar: ')\n",
    "    somaNum2 = input('Digite o 2º Numero para somar: ')\n",
    "    somaNum1 = int(somaNum1)\n",
    "    somaNum2 = int(somaNum2)\n",
    "    \n",
    "    print('O resultado da soma é: ', somaNum1+somaNum2)\n",
    "    pergunta = input('Deseja fazer uma soma? Obs.: Digite S para Sim e N para Não: ')\n",
    "\n"
   ]
  },
  {
   "cell_type": "markdown",
   "id": "5f237420",
   "metadata": {},
   "source": [
    "5. Faça um programa que verifique se uma letra digitada é volgal ou consoante FOR, IF e Lista ['A','E','I','O','U']"
   ]
  },
  {
   "cell_type": "code",
   "execution_count": 94,
   "id": "f3be0a9f",
   "metadata": {},
   "outputs": [
    {
     "name": "stdout",
     "output_type": "stream",
     "text": [
      "Informe uma Letra: A\n",
      "Essa letra é uma vogal!\n"
     ]
    }
   ],
   "source": [
    "listaVogal =  ['A','E','I','O','U']\n",
    "letra = input('Informe uma Letra: ')\n",
    "letra = letra.upper()\n",
    "\n",
    "for texto in listaVogal:    \n",
    "    if letra == texto:\n",
    "        print('Essa letra é uma vogal!')\n"
   ]
  },
  {
   "cell_type": "markdown",
   "id": "6afd54a5",
   "metadata": {},
   "source": [
    "5. Faça um programa, utilizando while e listas, que permita o usuário realizar o cadastro de um número indeterminado de pessoas enquanto quiser e os mostre na tela ao finalizar. Se a pessoa digitar zero, o código deve ser interrompido e os nomes cadastrados na lista devem ser apresentados.\n"
   ]
  },
  {
   "cell_type": "code",
   "execution_count": 98,
   "id": "df0d317b",
   "metadata": {},
   "outputs": [
    {
     "name": "stdout",
     "output_type": "stream",
     "text": [
      "Digite 0 (zero) para finalizar os cadastros.\n",
      "Funcionário 1ªe\n",
      "Funcionário 2ªr\n",
      "Funcionário 3ªt\n",
      "Funcionário 4ªd\n",
      "Funcionário 5ª0\n",
      "['e', 'r', 't', 'd']\n"
     ]
    }
   ],
   "source": [
    "print('Digite 0 (zero) para finalizar os cadastros.')\n",
    "\n",
    "i = 0\n",
    "condicao = 1 #usada para cancelar o cadastro\n",
    "nomes = [] #Usada para salvar os nomes cadastrados\n",
    "\n",
    "while condicao != 0:\n",
    "    \n",
    "    texto = input('Funcionário ' + str(condicao) + 'ª')\n",
    "    \n",
    "    if texto == \"0\":\n",
    "        break #parae de repetir as ações do while\n",
    "    else:\n",
    "        nomes.append(texto)\n",
    "        \n",
    "    condicao = condicao + 1\n",
    "print(nomes)"
   ]
  },
  {
   "cell_type": "code",
   "execution_count": null,
   "id": "7131b092",
   "metadata": {},
   "outputs": [],
   "source": []
  }
 ],
 "metadata": {
  "kernelspec": {
   "display_name": "Python 3 (ipykernel)",
   "language": "python",
   "name": "python3"
  },
  "language_info": {
   "codemirror_mode": {
    "name": "ipython",
    "version": 3
   },
   "file_extension": ".py",
   "mimetype": "text/x-python",
   "name": "python",
   "nbconvert_exporter": "python",
   "pygments_lexer": "ipython3",
   "version": "3.10.9"
  }
 },
 "nbformat": 4,
 "nbformat_minor": 5
}
