{
 "cells": [
  {
   "cell_type": "code",
   "execution_count": 3,
   "id": "f89483dd",
   "metadata": {},
   "outputs": [
    {
     "name": "stdout",
     "output_type": "stream",
     "text": [
      "abacate\n",
      "pera\n",
      "abacaxi\n",
      "Após isso, finaliza o FOR\n",
      "Fim do For\n"
     ]
    }
   ],
   "source": [
    "frutas = ['abacate', 'pera', 'abacaxi', 'Após isso, finaliza o FOR'] #lista\n",
    "\n",
    "for fruta in frutas:\n",
    "    print(fruta)\n",
    "print('Fim do For')"
   ]
  },
  {
   "cell_type": "code",
   "execution_count": 7,
   "id": "b6f7c880",
   "metadata": {},
   "outputs": [
    {
     "name": "stdout",
     "output_type": "stream",
     "text": [
      "abacate\n",
      "abacaxi\n",
      "Fim do FOR\n"
     ]
    }
   ],
   "source": [
    "frutas = ['abacate', 'pera', 'abacaxi']\n",
    "\n",
    "for fruta in frutas:\n",
    "    if fruta.startswith('a'):\n",
    "        print(fruta)\n",
    "           \n",
    "print('Fim do FOR')"
   ]
  },
  {
   "cell_type": "code",
   "execution_count": 22,
   "id": "a8eba6c3",
   "metadata": {},
   "outputs": [
    {
     "name": "stdout",
     "output_type": "stream",
     "text": [
      "digite uma letra: a\n",
      "É uma vogal\n"
     ]
    },
    {
     "ename": "SystemExit",
     "evalue": "",
     "output_type": "error",
     "traceback": [
      "An exception has occurred, use %tb to see the full traceback.\n",
      "\u001b[1;31mSystemExit\u001b[0m\n"
     ]
    }
   ],
   "source": [
    "import sys\n",
    "\n",
    "vogais = ['a','e','i','o','u']\n",
    "\n",
    "letra_User = input('digite uma letra: ')\n",
    "\n",
    "for letra in vogais:\n",
    "    if letra_User == letra:\n",
    "        print('É uma vogal')        \n",
    "        sys.exit() #interompe o código        \n",
    "        \n",
    "print('é uma consoante')    "
   ]
  },
  {
   "cell_type": "markdown",
   "id": "debb953f",
   "metadata": {},
   "source": [
    "## Exercício 06\n",
    "Faça um programa que imprima na tela is números de 1 a 20, um abaixo do outro. Depois modifique o programa que ele mostre os números um ao lado do outro"
   ]
  },
  {
   "cell_type": "code",
   "execution_count": 28,
   "id": "50901300",
   "metadata": {},
   "outputs": [
    {
     "name": "stdout",
     "output_type": "stream",
     "text": [
      "0\n",
      "1\n",
      "2\n",
      "3\n",
      "4\n",
      "5\n",
      "6\n",
      "7\n",
      "8\n",
      "9\n",
      "10\n",
      "11\n",
      "12\n",
      "13\n",
      "14\n",
      "15\n",
      "16\n",
      "17\n",
      "18\n",
      "19\n",
      "20\n"
     ]
    }
   ],
   "source": [
    "#######################################################Exemplo 1:\n",
    "\n",
    "numeros = [0,1,2,3,4,5,6,7,8,9,10,11,12,13,14,15,16,17,18,19,20]\n",
    "\n",
    "for x in numeros:\n",
    "    print(x)\n"
   ]
  },
  {
   "cell_type": "code",
   "execution_count": 37,
   "id": "df9ba395",
   "metadata": {},
   "outputs": [
    {
     "name": "stdout",
     "output_type": "stream",
     "text": [
      "Foram adicionados 20 elementos à lista\n",
      "[1, 2, 3, 4, 5, 6, 7, 8, 9, 10, 11, 12, 13, 14, 15, 16, 17, 18, 19, 20]\n"
     ]
    }
   ],
   "source": [
    "###################################################Exemplo 2:\n",
    "lista = range(1,21)\n",
    "\n",
    "numeros = [] #Lista vazia\n",
    "\n",
    "for x in lista:\n",
    "    numeros.append(x)\n",
    "\n",
    "print(f'Foram adicionados {x} elementos à lista')    \n",
    "print(numeros)    "
   ]
  },
  {
   "cell_type": "markdown",
   "id": "27c2fee7",
   "metadata": {},
   "source": [
    "### Exercício 9\n",
    "Faça um programa que imprima na tela apenas os números impares inteiros que estão no intervalo compreendido poe eles."
   ]
  },
  {
   "cell_type": "code",
   "execution_count": 58,
   "id": "7b488f4a",
   "metadata": {},
   "outputs": [
    {
     "name": "stdout",
     "output_type": "stream",
     "text": [
      "[1, 3, 5, 7, 9, 11, 13, 15, 17, 19, 21, 23, 25, 27, 29, 31, 33, 35, 37, 39, 41, 43, 45, 47, 49]\n"
     ]
    }
   ],
   "source": [
    "lista = range(0,50)\n",
    "numeros = []\n",
    "\n",
    "for x in lista:\n",
    "   ## x = x + 1    \n",
    "    if x%2 != 0:\n",
    "        numeros.append(x)\n",
    "        \n",
    "print(numeros)  \n",
    "    \n",
    "       "
   ]
  },
  {
   "cell_type": "markdown",
   "id": "f71edabe",
   "metadata": {},
   "source": [
    "### Exercício 07\n",
    "Faça um programa que leia 5 números e informe o maior número."
   ]
  },
  {
   "cell_type": "code",
   "execution_count": 77,
   "id": "51519004",
   "metadata": {},
   "outputs": [
    {
     "name": "stdout",
     "output_type": "stream",
     "text": [
      "5\n"
     ]
    }
   ],
   "source": [
    "numeros = range(0,6)\n",
    "x = 0\n",
    "for x in numeros:\n",
    "    if x > 4:\n",
    "        print(x)   "
   ]
  },
  {
   "cell_type": "code",
   "execution_count": 71,
   "id": "e4870494",
   "metadata": {},
   "outputs": [
    {
     "name": "stdout",
     "output_type": "stream",
     "text": [
      "5\n"
     ]
    }
   ],
   "source": [
    "numeros = range(0,6)\n",
    "\n",
    "print(max(numeros))"
   ]
  },
  {
   "cell_type": "code",
   "execution_count": 121,
   "id": "3dc2cc7d",
   "metadata": {},
   "outputs": [
    {
     "name": "stdout",
     "output_type": "stream",
     "text": [
      "Digite a quantidade de números da lista: 15\n",
      "Digite o 1º número: 2\n",
      "Digite o 2º número: 3\n",
      "Digite o 3º número: 9\n",
      "Digite o 4º número: 15\n",
      "Digite o 5º número: 4\n",
      "Digite o 6º número: 3\n",
      "Digite o 7º número: 6\n",
      "Digite o 8º número: 9\n",
      "Digite o 9º número: 5\n",
      "Digite o 10º número: 47\n",
      "Digite o 11º número: 8\n",
      "Digite o 12º número: 1\n",
      "Digite o 13º número: 2\n",
      "Digite o 14º número: 5\n",
      "Digite o 15º número: 5\n",
      "\n",
      "########### SENAI ##############\n",
      "O Maior número é o 47 e o menor é o 1\n"
     ]
    }
   ],
   "source": [
    "x = int(input('Digite a quantidade de números da lista: '))\n",
    "i = 1\n",
    "\n",
    "numeros = range(0,x)\n",
    "numeros2 = []\n",
    "\n",
    "for i in numeros:\n",
    "    i = i + 1\n",
    "    l = int(input(f'Digite o {i}º número: '))\n",
    "    numeros2.append(l)\n",
    "\n",
    "print('')    \n",
    "print('########### SENAI ##############')\n",
    "print('O Maior número é o',max(numeros2), 'e o menor é o',min(numeros2))\n"
   ]
  },
  {
   "cell_type": "code",
   "execution_count": 113,
   "id": "b9e8b6de",
   "metadata": {},
   "outputs": [
    {
     "name": "stdout",
     "output_type": "stream",
     "text": [
      "Digite um número, please: 10\n",
      "Digite um número, please: 20\n",
      "Digite um número, please: 5\n",
      "Digite um número, please: 60\n",
      "Digite um número, please: 8\n",
      "Maioi valor na lista é 60 e o menor é 5\n"
     ]
    }
   ],
   "source": [
    "controle = range(0,5)\n",
    "numeros = []\n",
    "\n",
    "for x in controle:\n",
    "    num = int(input('Digite um número, please: '))\n",
    "    numeros.append(num)\n",
    "\n",
    "maior = max(numeros)\n",
    "menor = min(numeros)\n",
    "\n",
    "print(f'Maioi valor na lista é {maior} e o menor é {menor}')"
   ]
  },
  {
   "cell_type": "markdown",
   "id": "af76ddfa",
   "metadata": {},
   "source": [
    "### Exercício 12\n",
    "Desenvolva um gerador de tabuada, capaz de gerar a tabuada de\n",
    "qualquer número inteiro entre 1 a 10. O usuário deve informar de qual numero ele deseja\n",
    "ver a tabuada. A saída deve ser conforme o exemplo abaixo:\n",
    "    "
   ]
  },
  {
   "cell_type": "code",
   "execution_count": 122,
   "id": "26cc91c1",
   "metadata": {},
   "outputs": [
    {
     "name": "stdout",
     "output_type": "stream",
     "text": [
      "Digite um numero entre 1 e 10 12\n",
      "12 x 1  =  12\n",
      "12 x 2  =  24\n",
      "12 x 3  =  36\n",
      "12 x 4  =  48\n",
      "12 x 5  =  60\n",
      "12 x 6  =  72\n",
      "12 x 7  =  84\n",
      "12 x 8  =  96\n",
      "12 x 9  =  108\n",
      "12 x 10  =  120\n"
     ]
    }
   ],
   "source": [
    "num = int(input('Digite um numero entre 1 e 10 '))\n",
    "multiplos = [1,2,3,4,5,6,7,8,9,10]\n",
    "valor = 0\n",
    "alg = 0\n",
    "for valor in multiplos:\n",
    "    valor = num * valor\n",
    "    alg = alg + 1\n",
    "    print(num, 'x',alg,' = ',valor)"
   ]
  },
  {
   "cell_type": "code",
   "execution_count": 125,
   "id": "acef235f",
   "metadata": {},
   "outputs": [
    {
     "name": "stdout",
     "output_type": "stream",
     "text": [
      "Digite um numero entre 1 e 10 2\n",
      "TABUADA DO NÙMERO 2\n",
      "2 x 1 = 2\n",
      "2 x 2 = 4\n",
      "2 x 3 = 6\n",
      "2 x 4 = 8\n",
      "2 x 5 = 10\n",
      "2 x 6 = 12\n",
      "2 x 7 = 14\n",
      "2 x 8 = 16\n",
      "2 x 9 = 18\n",
      "2 x 10 = 20\n"
     ]
    }
   ],
   "source": [
    "num = int(input('Digite um numero entre 1 e 10 '))\n",
    "\n",
    "multiplicadores = range(1,11)\n",
    "\n",
    "if num >=1 and num <= 10:\n",
    "    \n",
    "    print(f'TABUADA DO NÙMERO {num}')\n",
    "    for x in multiplicadores:\n",
    "        resultado = num * x\n",
    "        print(f'{num} x {x} = {resultado}')              \n",
    "else:\n",
    "    print('Número não disponível')\n",
    "\n",
    "              \n",
    "              \n",
    "              \n",
    "            \n",
    "    \n",
    "    "
   ]
  },
  {
   "cell_type": "code",
   "execution_count": null,
   "id": "3285d005",
   "metadata": {},
   "outputs": [],
   "source": []
  }
 ],
 "metadata": {
  "kernelspec": {
   "display_name": "Python 3 (ipykernel)",
   "language": "python",
   "name": "python3"
  },
  "language_info": {
   "codemirror_mode": {
    "name": "ipython",
    "version": 3
   },
   "file_extension": ".py",
   "mimetype": "text/x-python",
   "name": "python",
   "nbconvert_exporter": "python",
   "pygments_lexer": "ipython3",
   "version": "3.10.9"
  }
 },
 "nbformat": 4,
 "nbformat_minor": 5
}
