{
 "cells": [
  {
   "cell_type": "markdown",
   "metadata": {},
   "source": [
    "### Exercício 01. \n",
    "Faça uma função que recebe por parâmetro o raio de uma esfera e calcula o \n",
    "seu volume (v = 4/3.P .R3\n",
    ").\n"
   ]
  },
  {
   "cell_type": "code",
   "execution_count": 8,
   "metadata": {},
   "outputs": [
    {
     "name": "stderr",
     "output_type": "stream",
     "text": [
      "ERROR: Could not find a version that satisfies the requirement math (from versions: none)\n",
      "ERROR: No matching distribution found for math\n",
      "\n",
      "[notice] A new release of pip available: 22.3 -> 23.2.1\n",
      "[notice] To update, run: python.exe -m pip install --upgrade pip\n"
     ]
    },
    {
     "name": "stdout",
     "output_type": "stream",
     "text": [
      "Requirement already satisfied: numpy in c:\\python311\\lib\\site-packages (1.24.2)\n"
     ]
    },
    {
     "name": "stderr",
     "output_type": "stream",
     "text": [
      "\n",
      "[notice] A new release of pip available: 22.3 -> 23.2.1\n",
      "[notice] To update, run: python.exe -m pip install --upgrade pip\n"
     ]
    }
   ],
   "source": [
    "!pip install math\n",
    "!pip install numpy"
   ]
  },
  {
   "cell_type": "code",
   "execution_count": 9,
   "metadata": {},
   "outputs": [],
   "source": [
    "import numpy as np\n",
    "\n",
    "def volume_esfera(raio):\n",
    "    pi = np.pi\n",
    "    volume = 4/3 * pi * raio ** 3\n",
    "    return volume"
   ]
  },
  {
   "cell_type": "code",
   "execution_count": 10,
   "metadata": {},
   "outputs": [
    {
     "data": {
      "text/plain": [
       "4188.790204786391"
      ]
     },
     "execution_count": 10,
     "metadata": {},
     "output_type": "execute_result"
    }
   ],
   "source": [
    "volume_esfera(10)"
   ]
  },
  {
   "cell_type": "markdown",
   "metadata": {},
   "source": [
    "### Exercício 02.\n",
    "\n",
    "Escreva um procedimento que recebe as 3 notas de um aluno por parâmetro \n",
    "e uma letra. Se a letra for A o procedimento calcula a média aritmética das notas do aluno, \n",
    "se for P, a sua média ponderada (pesos: 5, 3 e 2) e se for H, a sua média harmônica. A \n",
    "média calculada também deve retornar por parâmetro."
   ]
  },
  {
   "cell_type": "code",
   "execution_count": 11,
   "metadata": {},
   "outputs": [
    {
     "name": "stdout",
     "output_type": "stream",
     "text": [
      "Resultado da função média Final 7.666666666666667\n"
     ]
    }
   ],
   "source": [
    "def media_aritmetica(num1, num2, num3):\n",
    "    media = (num1 + num2 + num3)/3\n",
    "    \n",
    "    return media\n",
    "\n",
    "def media_ponderada(num1, num2, num3):\n",
    "    soma = num1*5 + num2*3 + num3*2\n",
    "    media = soma / 10\n",
    "\n",
    "    return media\n",
    "\n",
    "def media_harmonica(num1, num2, num3):\n",
    "    qtdDeTermos = 3\n",
    "    soma = 1/num1 + 1/num2 + 1/num3\n",
    "\n",
    "    media = qtdDeTermos / soma\n",
    "\n",
    "    return media\n",
    "\n",
    "def media_final(num1, num2, num3, tipo):\n",
    "\n",
    "    if tipo.upper() == 'A':\n",
    "        return media_aritmetica(num1, num2, num3)\n",
    "    elif tipo.upper() == 'P':\n",
    "        return media_ponderada(num1, num2, num3)\n",
    "    elif tipo.upper() == 'H':\n",
    "        return media_harmonica(num1, num2, num3)\n",
    "    else:\n",
    "        print('Por favor, Digite uma letra válida!!!')    \n",
    "\n",
    "\n",
    "print('Resultado da função média Final',media_final(10,8,5,'a'))"
   ]
  },
  {
   "cell_type": "markdown",
   "metadata": {},
   "source": [
    "### Exercício 08.\n",
    "\n",
    "Faça um procedimento que recebe a idade de um nadador por parâmetro e \n",
    "retorna, também por parâmetro, a categoria desse nadador de acordo com a tabela abaixo:\n",
    "\n",
    "5 a 7 = Infantil A\n",
    "8 a 10 = Infantil B\n",
    "11 - 13 = Juvenil A\n",
    "14 - 17 = Juvenil B\n",
    "maiores de 18(inclusive) = Adulto"
   ]
  },
  {
   "cell_type": "code",
   "execution_count": 12,
   "metadata": {},
   "outputs": [
    {
     "name": "stdout",
     "output_type": "stream",
     "text": [
      "Você pertence a categoria:  Inválida!!!!\n"
     ]
    }
   ],
   "source": [
    "def verificar_idade(qtd_idade):\n",
    "    idade = int(qtd_idade)\n",
    "\n",
    "    if idade >= 5 and idade <= 7:\n",
    "        categoria = 'Infantil A'\n",
    "    elif idade >= 8 and idade <= 10:\n",
    "        categoria = 'Infantil B'\n",
    "    elif idade >= 11 and idade <= 13:\n",
    "        categoria = 'Juvenil A'\n",
    "    elif idade >= 14 and idade <= 17:\n",
    "        categoria = 'Juvenil B'\n",
    "    elif idade >= 18:\n",
    "        categoria = 'Adulto'\n",
    "\n",
    "    else:\n",
    "        categoria = 'Inválida!!!!'\n",
    "    \n",
    "    return categoria\n",
    "\n",
    "\n",
    "str_qtd_idade = input('Digite sua idade: ')\n",
    "\n",
    "categoriaF = verificar_idade(str_qtd_idade)\n",
    "print('Você pertence a categoria: ',categoriaF)\n",
    "\n"
   ]
  },
  {
   "cell_type": "markdown",
   "metadata": {},
   "source": [
    "### Exercício 09. \n",
    "\n",
    "Faça uma função que recebe um valor inteiro e verifica se o valor é positivo \n",
    "ou negativo. A função deve retornar um valor booleano.\n"
   ]
  },
  {
   "cell_type": "code",
   "execution_count": 19,
   "metadata": {},
   "outputs": [
    {
     "name": "stdout",
     "output_type": "stream",
     "text": [
      "O número digitado é: True\n"
     ]
    }
   ],
   "source": [
    "def verificar_numero(num_tipo):\n",
    "    num = int(num_tipo)\n",
    "    ##tipo = bool(tipo)\n",
    "\n",
    "    if num > 0:\n",
    "        tipo = True\n",
    "\n",
    "    else:\n",
    "        tipo = False\n",
    "    \n",
    "    return tipo\n",
    "\n",
    "str_num_tipo = input('Digite um número diferente de zero: ')\n",
    "\n",
    "tipoF = verificar_numero(str_num_tipo)\n",
    "print('O número digitado é:' ,tipoF)\n"
   ]
  },
  {
   "cell_type": "markdown",
   "metadata": {},
   "source": [
    "### Exercício 10. \n",
    "\n",
    "Faça uma função que recebe um valor inteiro e verifica se o valor é par ou \n",
    "ímpar. A função deve retornar um valor booleano.\n"
   ]
  },
  {
   "cell_type": "markdown",
   "metadata": {},
   "source": []
  }
 ],
 "metadata": {
  "kernelspec": {
   "display_name": "Python 3",
   "language": "python",
   "name": "python3"
  },
  "language_info": {
   "codemirror_mode": {
    "name": "ipython",
    "version": 3
   },
   "file_extension": ".py",
   "mimetype": "text/x-python",
   "name": "python",
   "nbconvert_exporter": "python",
   "pygments_lexer": "ipython3",
   "version": "3.11.0"
  },
  "orig_nbformat": 4
 },
 "nbformat": 4,
 "nbformat_minor": 2
}
