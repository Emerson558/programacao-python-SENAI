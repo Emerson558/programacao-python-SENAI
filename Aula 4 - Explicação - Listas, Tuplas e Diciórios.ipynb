{
 "cells": [
  {
   "cell_type": "code",
   "execution_count": 31,
   "id": "96e987e8",
   "metadata": {},
   "outputs": [
    {
     "name": "stdout",
     "output_type": "stream",
     "text": [
      "<class 'list'>\n",
      "<class 'list'>\n"
     ]
    }
   ],
   "source": [
    "alunos = ['Amanda','Ana','Bruno','João']\n",
    "notas = [10, 8.5, 7.8, 8.0]\n",
    "\n",
    "alunos #Retornar um elemmento da lista\n",
    "\n",
    "#Verificando o tipo de dado:\n",
    "##print(alunos)\n",
    "print(type(alunos))\n",
    "print(type(notas))"
   ]
  },
  {
   "cell_type": "markdown",
   "id": "d08983a9",
   "metadata": {},
   "source": [
    "### Tuplas"
   ]
  },
  {
   "cell_type": "code",
   "execution_count": 32,
   "id": "2f4baaf8",
   "metadata": {},
   "outputs": [],
   "source": [
    "valores = (90,79,54,32,21)\n",
    "pontos = (100,94.05,86.8,62)\n",
    "\n",
    "my_list = [1,2]#Criando uma lista\n",
    "my_tuple = (1, 2) #Criando uma tupla\n",
    "other_tuple = (3, 4) #Criando uma tupla\n",
    "my_list[1] = 3 #Substituido um elemento da lista"
   ]
  },
  {
   "cell_type": "code",
   "execution_count": 33,
   "id": "6226d8a0",
   "metadata": {},
   "outputs": [
    {
     "name": "stdout",
     "output_type": "stream",
     "text": [
      "Você não pode modificar uma tupla!\n"
     ]
    }
   ],
   "source": [
    "#Tratamento de erro vai executar as ações do bloco TRY, caso não haja erro\n",
    "#Se houver um erro, ele vai executar ações do bloco Except TypeError\n",
    "try:\n",
    "    my_tuple[1] = 3\n",
    "except TypeError:\n",
    "    print('Você não pode modificar uma tupla!')"
   ]
  },
  {
   "cell_type": "code",
   "execution_count": 34,
   "id": "8bd2c6f1",
   "metadata": {},
   "outputs": [
    {
     "data": {
      "text/plain": [
       "(12, 20)"
      ]
     },
     "execution_count": 34,
     "metadata": {},
     "output_type": "execute_result"
    }
   ],
   "source": [
    "#As tuplas são uma forma eficaz de usar funções para retornar múltiplos valores:\n",
    "\n",
    "def sum_and_product(x, y):\n",
    "    return (x + y), (x * y)\n",
    "sum_and_product(10,2)"
   ]
  },
  {
   "cell_type": "markdown",
   "id": "9e27ba1d",
   "metadata": {},
   "source": [
    "### Dicionários"
   ]
  },
  {
   "cell_type": "code",
   "execution_count": 45,
   "id": "63c60813",
   "metadata": {},
   "outputs": [
    {
     "name": "stdout",
     "output_type": "stream",
     "text": [
      "A altura do joão é:  1.7\n",
      "O peso da Ana é:  86\n"
     ]
    }
   ],
   "source": [
    "altura = {'Amanda':1.65, 'Ana':1.60, 'João':1.70}\n",
    "peso = {'Amanda':65, 'Ana': 86,'João':170}\n",
    "\n",
    "print('A altura do joão é: ',altura['João'])\n",
    "print('O peso da Ana é: ',peso['Ana'])"
   ]
  },
  {
   "cell_type": "code",
   "execution_count": 56,
   "id": "f5f18b09",
   "metadata": {},
   "outputs": [],
   "source": [
    "cadastro = {\n",
    "    \n",
    "    'nome':'Tânia',\n",
    "    'idade':35,\n",
    "    'fruta':'Uva',\n",
    "    'cor':'Roxa',\n",
    "    'musica' : 'Forró',           \n",
    "           \n",
    "           }"
   ]
  },
  {
   "cell_type": "code",
   "execution_count": 57,
   "id": "ad290a53",
   "metadata": {},
   "outputs": [
    {
     "data": {
      "text/plain": [
       "{'nome': 'Tânia',\n",
       " 'idade': 35,\n",
       " 'fruta': 'Uva',\n",
       " 'cor': 'Roxa',\n",
       " 'musica': 'Forró',\n",
       " 'sobrenome': 'Gomes'}"
      ]
     },
     "execution_count": 57,
     "metadata": {},
     "output_type": "execute_result"
    }
   ],
   "source": [
    "########## Inserindo uma nova chave-valor:\n",
    "cadastro ['sobrenome'] = 'Gomes'\n",
    "cadastro"
   ]
  },
  {
   "cell_type": "code",
   "execution_count": 50,
   "id": "c60028a7",
   "metadata": {},
   "outputs": [
    {
     "data": {
      "text/plain": [
       "['sobrenome']"
      ]
     },
     "execution_count": 50,
     "metadata": {},
     "output_type": "execute_result"
    }
   ],
   "source": []
  },
  {
   "cell_type": "code",
   "execution_count": null,
   "id": "d220a27f",
   "metadata": {},
   "outputs": [],
   "source": []
  }
 ],
 "metadata": {
  "kernelspec": {
   "display_name": "Python 3 (ipykernel)",
   "language": "python",
   "name": "python3"
  },
  "language_info": {
   "codemirror_mode": {
    "name": "ipython",
    "version": 3
   },
   "file_extension": ".py",
   "mimetype": "text/x-python",
   "name": "python",
   "nbconvert_exporter": "python",
   "pygments_lexer": "ipython3",
   "version": "3.10.9"
  }
 },
 "nbformat": 4,
 "nbformat_minor": 5
}
