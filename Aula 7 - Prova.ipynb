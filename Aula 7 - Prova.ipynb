{
 "cells": [
  {
   "cell_type": "markdown",
   "id": "c685ab4e",
   "metadata": {},
   "source": [
    "### Questão 01\n",
    "Escreva um programa que exiba os números de 1 a 10 em ordem crescente."
   ]
  },
  {
   "cell_type": "code",
   "execution_count": 19,
   "id": "38c6e3e8",
   "metadata": {},
   "outputs": [
    {
     "name": "stdout",
     "output_type": "stream",
     "text": [
      "1\n",
      "2\n",
      "3\n",
      "4\n",
      "5\n",
      "6\n",
      "7\n",
      "8\n",
      "9\n",
      "10\n"
     ]
    }
   ],
   "source": [
    "i = 0\n",
    "\n",
    "while i <= 9:\n",
    "    \n",
    "    i = i + 1\n",
    "    print(i) \n",
    "        "
   ]
  },
  {
   "cell_type": "markdown",
   "id": "e6c0f7c9",
   "metadata": {},
   "source": [
    "### Questão 02\n",
    "Escreva um programa que calcule a média de uma lista de números. A lista deve conter pelo menos 5 números."
   ]
  },
  {
   "cell_type": "code",
   "execution_count": 100,
   "id": "f7205c9e",
   "metadata": {},
   "outputs": [
    {
     "name": "stdout",
     "output_type": "stream",
     "text": [
      "5\n",
      "2\n",
      "6\n",
      "1\n",
      "4\n",
      "9\n",
      "18\n",
      "A média dos valores é: 6.428571428571429\n",
      "A média é:  24.0\n"
     ]
    }
   ],
   "source": [
    "notas = [5,2,6,1,4,9,18]\n",
    "soma = 0\n",
    "i = 0\n",
    "\n",
    "for n in notas:\n",
    "    soma = n + soma\n",
    "    i = i + 1\n",
    "    print(n)\n",
    "    \n",
    "media = soma / i\n",
    "    \n",
    "print(f'A média dos valores é: {media}')\n",
    "\n",
    "#--------------------utilizzando o len\n",
    "\n",
    "soma = 0\n",
    "\n",
    "for n in numeros:\n",
    "    soma += n #soma = soma + n\n",
    "    \n",
    "qtde = len(numeros)#Retornar a qtde de iten de uma lista\n",
    "media = soma/qtde\n",
    "\n",
    "print('A média é: ', media)"
   ]
  },
  {
   "cell_type": "markdown",
   "id": "dd259972",
   "metadata": {},
   "source": [
    "### Questão 03\n",
    "Escreva um programa que gere a sequência de Fibonacci até o décimo termo. A sequência de Fibonacci é formada pela soma dos dois termos anteriores, começando com 0 e 1. A sequência fica assim: 0, 1, 1, 2, 3, 5, 8, 13, 21, 34..."
   ]
  },
  {
   "cell_type": "code",
   "execution_count": 101,
   "id": "050fe9d5",
   "metadata": {},
   "outputs": [
    {
     "name": "stdout",
     "output_type": "stream",
     "text": [
      "[0, 1, 1, 2, 3, 5, 8, 13, 21, 34, 55, 89]\n"
     ]
    }
   ],
   "source": [
    "termos = 10\n",
    "serieF = [0]\n",
    "\n",
    "i = 0\n",
    "\n",
    "while i <= termos:\n",
    "    \n",
    "    if len(serieF) == 10:\n",
    "        break    \n",
    "    \n",
    "    if serieF[0] == 0 and i == 0:\n",
    "        serieF.append(1)\n",
    "    else:\n",
    "        a = serieF[i] + serieF[i-1]\n",
    "        serieF.append(a)\n",
    "    \n",
    "    i += 1\n",
    "    \n",
    "print(serieF)"
   ]
  },
  {
   "cell_type": "markdown",
   "id": "6a71b29c",
   "metadata": {},
   "source": [
    "### Questão 04\n",
    "Escreva um programa que leia um número inteiro positivo n do usuário e exiba a soma de todos os números de 1 até n."
   ]
  },
  {
   "cell_type": "code",
   "execution_count": 107,
   "id": "87299721",
   "metadata": {},
   "outputs": [
    {
     "name": "stdout",
     "output_type": "stream",
     "text": [
      "Digite um número inteiro maior que 2: 3\n",
      "[1, 2, 3]\n",
      "A soma total é 6\n",
      "1176\n"
     ]
    }
   ],
   "source": [
    "numPos = int(input('Digite um número inteiro maior que 2: '))\n",
    "i = 0\n",
    "numeros = []\n",
    "\n",
    "while i < numPos:\n",
    "    i = i + 1\n",
    "    numeros.append(int(i))\n",
    "\n",
    "print(numeros)\n",
    "soma = sum(numeros)      \n",
    "            \n",
    "print(f'A soma total é {soma}')   \n",
    "\n",
    "#---------------------------------------------------------------\n",
    "\n",
    "i = 0\n",
    "soma = 0\n",
    "\n",
    "while i <= n:\n",
    "    soma += i\n",
    "    i += 1\n",
    "    \n",
    "print(soma)\n"
   ]
  },
  {
   "cell_type": "markdown",
   "id": "cd24fe39",
   "metadata": {},
   "source": [
    "### Questão 05\n",
    "Escreva um programa que receba uma lista de números do usuário e exiba apenas os números pares presentes na lista e sua respectiva quantidade."
   ]
  },
  {
   "cell_type": "code",
   "execution_count": 108,
   "id": "7e3e8b1b",
   "metadata": {},
   "outputs": [
    {
     "name": "stdout",
     "output_type": "stream",
     "text": [
      "Digite um valor, ou [S] para sair10\n",
      "Digite um valor, ou [S] para sair. 5\n",
      "Digite um valor, ou [S] para sair. s\n",
      "[10]\n",
      "Existem 1 números pares nesta lista.\n"
     ]
    }
   ],
   "source": [
    "resp = input('Digite um valor, ou [S] para sair')\n",
    "lista = []\n",
    "\n",
    "numeros = []\n",
    "qtde = 0\n",
    "\n",
    "while resp.lower() != 's':\n",
    "    \n",
    "    lista.append(int(resp))\n",
    "    resp = input('Digite um valor, ou [S] para sair. ')\n",
    "\n",
    "for x in lista:\n",
    "    \n",
    "    if x%2 == 0:\n",
    "        numeros.append(x)\n",
    "        qtde +=1\n",
    "        \n",
    "print(numeros) \n",
    "print(f'Existem {qtde} números pares nesta lista.')"
   ]
  },
  {
   "cell_type": "markdown",
   "id": "136ec76d",
   "metadata": {},
   "source": [
    "### Questão 06\n",
    "Escreva um programa que leia uma lista de números do usuário e determine a soma, média, o maior valor e o menor valor da lista."
   ]
  },
  {
   "cell_type": "code",
   "execution_count": 93,
   "id": "c75bddf3",
   "metadata": {},
   "outputs": [
    {
     "name": "stdout",
     "output_type": "stream",
     "text": [
      "A soma dos valores é: 2.325\n",
      "A média dos valores é: 2.325\n",
      "O maior valor é:  10\n",
      "O menor valor é:  3\n"
     ]
    }
   ],
   "source": [
    "notas = [10,8.5,9,3,4,6,6]\n",
    "soma = 0\n",
    "\n",
    "for n in notas:\n",
    "    soma = n + soma\n",
    "    i = i + 1\n",
    "media = soma / i\n",
    "\n",
    "print(f'A soma dos valores é: {media}')    \n",
    "print(f'A média dos valores é: {media}')\n",
    "print('O maior valor é: ',max(notas))\n",
    "print('O menor valor é: ',min(notas))"
   ]
  },
  {
   "cell_type": "markdown",
   "id": "857ea139",
   "metadata": {},
   "source": [
    "### Questão 07\n",
    "Escreva um programa que leia um número inteiro positivo n do usuário e exiba a tabuada de multiplicação desse número, do 1 ao 10."
   ]
  },
  {
   "cell_type": "code",
   "execution_count": 94,
   "id": "eef02581",
   "metadata": {},
   "outputs": [
    {
     "name": "stdout",
     "output_type": "stream",
     "text": [
      "Digite um numero entre 1 e 10 2\n",
      "2 x 1  =  2\n",
      "2 x 2  =  4\n",
      "2 x 3  =  6\n",
      "2 x 4  =  8\n",
      "2 x 5  =  10\n",
      "2 x 6  =  12\n",
      "2 x 7  =  14\n",
      "2 x 8  =  16\n",
      "2 x 9  =  18\n",
      "2 x 10  =  20\n"
     ]
    }
   ],
   "source": [
    "num = int(input('Digite um numero entre 1 e 10 '))\n",
    "multiplos = [1,2,3,4,5,6,7,8,9,10]\n",
    "valor = 0\n",
    "alg = 0\n",
    "for valor in multiplos:\n",
    "    valor = num * valor\n",
    "    alg = alg + 1\n",
    "    print(num, 'x',alg,' = ',valor)"
   ]
  },
  {
   "cell_type": "markdown",
   "id": "e42d4dc4",
   "metadata": {},
   "source": [
    "### Questão 08\n",
    "Escreva um programa que leia uma lista de números do usuário e crie duas novas listas: uma contendo os números positivos e outra contendo os números negativos."
   ]
  },
  {
   "cell_type": "code",
   "execution_count": 98,
   "id": "a0cf53cd",
   "metadata": {},
   "outputs": [
    {
     "ename": "TypeError",
     "evalue": "'>' not supported between instances of 'list' and 'int'",
     "output_type": "error",
     "traceback": [
      "\u001b[1;31m---------------------------------------------------------------------------\u001b[0m",
      "\u001b[1;31mTypeError\u001b[0m                                 Traceback (most recent call last)",
      "Cell \u001b[1;32mIn[98], line 6\u001b[0m\n\u001b[0;32m      3\u001b[0m numNeg \u001b[38;5;241m=\u001b[39m []\n\u001b[0;32m      5\u001b[0m \u001b[38;5;28;01mfor\u001b[39;00m x \u001b[38;5;129;01min\u001b[39;00m nums:\n\u001b[1;32m----> 6\u001b[0m     \u001b[38;5;28;01mif\u001b[39;00m \u001b[43mnums\u001b[49m\u001b[43m \u001b[49m\u001b[38;5;241;43m>\u001b[39;49m\u001b[43m \u001b[49m\u001b[38;5;241;43m0\u001b[39;49m:\n\u001b[0;32m      7\u001b[0m         numPos\u001b[38;5;241m.\u001b[39mappend(x)\n\u001b[0;32m      8\u001b[0m     \u001b[38;5;28;01melif\u001b[39;00m nums \u001b[38;5;241m<\u001b[39m \u001b[38;5;241m0\u001b[39m:\n",
      "\u001b[1;31mTypeError\u001b[0m: '>' not supported between instances of 'list' and 'int'"
     ]
    }
   ],
   "source": [
    "\n",
    "while resp != 's':\n",
    "    resp = input('Deseja finalizar a lista? Digite [S] para sim e [N] para não ')\n",
    "    if resp == 's':\n",
    "        num = int(input('Digite um número para a lista: '))\n",
    "        numeros.append(num)\n",
    "\n",
    "\n",
    "numPos = []\n",
    "numNeg = []\n",
    "\n",
    "for x in nums:\n",
    "    if nums > 0:\n",
    "        numPos.append(x)\n",
    "    elif nums < 0:\n",
    "        numNeg.append(x)\n",
    "    else:\n",
    "        print('Número nulo!!!!')\n",
    "\n",
    "    "
   ]
  },
  {
   "cell_type": "code",
   "execution_count": null,
   "id": "3bfb20b9",
   "metadata": {},
   "outputs": [],
   "source": []
  }
 ],
 "metadata": {
  "kernelspec": {
   "display_name": "Python 3 (ipykernel)",
   "language": "python",
   "name": "python3"
  },
  "language_info": {
   "codemirror_mode": {
    "name": "ipython",
    "version": 3
   },
   "file_extension": ".py",
   "mimetype": "text/x-python",
   "name": "python",
   "nbconvert_exporter": "python",
   "pygments_lexer": "ipython3",
   "version": "3.10.9"
  }
 },
 "nbformat": 4,
 "nbformat_minor": 5
}
