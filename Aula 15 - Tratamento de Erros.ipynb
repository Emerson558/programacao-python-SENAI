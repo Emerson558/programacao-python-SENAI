{
 "cells": [
  {
   "cell_type": "code",
   "execution_count": null,
   "metadata": {},
   "outputs": [],
   "source": [
    "try:\n",
    "    print(x)\n",
    "except:\n",
    "    print(\"An exception occurred\")"
   ]
  },
  {
   "cell_type": "markdown",
   "metadata": {},
   "source": [
    "Exercício 01 – Escreva um programa Python para lidar com uma exceção\n",
    "ZeroDivisionError ao dividir um número por zero.\n",
    "exception ZeroDivisionError:\n",
    "Gerado quando o segundo argumento de uma operação de divisão ou módulo é zero.\n",
    "O valor associado é uma string que indica o tipo dos operandos e a operação."
   ]
  },
  {
   "cell_type": "code",
   "execution_count": null,
   "metadata": {},
   "outputs": [],
   "source": [
    "def divide_numbers(x, y):\n",
    "\n",
    "    try:\n",
    "            \n",
    "        x = float(x)\n",
    "        y = float(y)        \n",
    "        result = x/y\n",
    "        return result\n",
    "    except ZeroDivisionError:\n",
    "        print('Não é permitido divisão por zero!')\n",
    "    except ValueError:\n",
    "        print('Por favor, digite um número não nulo!')    \n",
    "\n",
    "numerador = 100\n",
    "denominador = 'A'\n",
    "\n",
    "divide_numbers(numerador, denominador)"
   ]
  },
  {
   "cell_type": "markdown",
   "metadata": {},
   "source": [
    "Exercício 02 - Escreva um programa Python que solicite ao usuário que insira um inteiro\n",
    "e gere uma exceção ValueError se a entrada não for um inteiro válido.\n",
    "exception ValueError:\n",
    "Gerado quando uma operação ou função recebe um argumento que tem o tipo certo,\n",
    "mas um valor inadequado, e a situação não é descrita por uma exceção mais precisa,\n",
    "como IndexError."
   ]
  },
  {
   "cell_type": "code",
   "execution_count": null,
   "metadata": {},
   "outputs": [],
   "source": [
    "#Função\n",
    "def get_integer_input(number):\n",
    "    try:\n",
    "        valor = int(number)\n",
    "        return valor\n",
    "    except ValueError:\n",
    "        print('Erro: Informação inválida! Digite um número inteiro!')\n",
    "\n",
    "#USO (TESTE)\n",
    "\n",
    "n = input('Digite um número inteiro: ')\n",
    "print('O valor digitado é: ', get_integer_input(n))"
   ]
  },
  {
   "cell_type": "markdown",
   "metadata": {},
   "source": [
    "Exercício 15 - Faça um programa para a leitura de duas notas parciais de um aluno. O\n",
    "programa deve calcular a média alcançada por aluno e apresentar:\n",
    "• A mensagem \"Aprovado\", se a média alcançada for maior ou igual a sete;\n",
    "• A mensagem \"Reprovado\", se a média for menor do que sete;\n",
    "• A mensagem \"Aprovado com Distinção\", se a média for igual a dez."
   ]
  },
  {
   "cell_type": "code",
   "execution_count": null,
   "metadata": {},
   "outputs": [],
   "source": [
    "#Função\n",
    "def conceito_final(nota1, nota2):\n",
    "\n",
    "    try:\n",
    "\n",
    "        nota_1 = float(nota1)\n",
    "        nota_2 = float(nota2)\n",
    "        media = (nota_1 + nota_2)/2\n",
    "\n",
    "        if media >= 7:\n",
    "            conceito = 'Aprovado'\n",
    "        elif media < 7:\n",
    "            conceito = 'Reprovado'\n",
    "        elif media == 10:\n",
    "            conceito = 'Aprovato com distinção!'\n",
    "\n",
    "        return conceito\n",
    "    except:\n",
    "        print('ERRO: Valor inválido, digite as notas novamente')\n",
    "\n",
    "#TESTE\n",
    "\n",
    "conceito_final(10,'a')\n"
   ]
  },
  {
   "cell_type": "markdown",
   "metadata": {},
   "source": [
    "Exercício 21 - As Organizações Tabajara resolveram dar um aumento de salário aos\n",
    "seus colaboradores e lhe contaram para desenvolver o programa que calculará os\n",
    "reajustes. Faça um programa que recebe o salário de um colaborador e o reajuste\n",
    "segundo o seguinte critério, baseado no salário atual:\n",
    "• salários até R$ 280,00 (incluindo) : aumento de 20%\n",
    "• salários entre R$ 280,00 e R$ 700,00 : aumento de 15%\n",
    "• salários entre R$ 700,00 e R$ 1500,00 : aumento de 10%\n",
    "• salários de R$ 1500,00 em diante : aumento de 5%"
   ]
  },
  {
   "cell_type": "code",
   "execution_count": null,
   "metadata": {},
   "outputs": [],
   "source": [
    "# Função\n",
    "daf aumento_final(salario):\n",
    "\n",
    "    salarioA = float(salario)\n",
    "\n",
    "    if salarioA <= 280:\n",
    "        salarioA = salarioA + (salarioA / 100)\n",
    "    elif salarioA "
   ]
  },
  {
   "cell_type": "code",
   "execution_count": null,
   "metadata": {},
   "outputs": [],
   "source": [
    "#Finally\n",
    "\n",
    "try:\n",
    "    print(x)\n",
    "except:\n",
    "    print('Algo deu errado!')\n",
    "finally:\n",
    "    print(\"O bloco try except está finalizado!\")"
   ]
  },
  {
   "cell_type": "markdown",
   "metadata": {},
   "source": [
    "### Raise (levantar uma exceção)\n",
    "A palavra chave-raise é usada para gerar uma exceção de erro. Você pode definir que tipo de erro gerar e o textp a ser impresso para o usuário."
   ]
  },
  {
   "cell_type": "code",
   "execution_count": null,
   "metadata": {},
   "outputs": [],
   "source": [
    "x = 'Hellp baby'\n",
    "if not type(x) is int:\n",
    "    raise TypeError('Este erro foi definido pelo programador')\n",
    "\n"
   ]
  },
  {
   "cell_type": "markdown",
   "metadata": {},
   "source": [
    "## Exercício 03\n",
    " \n",
    "Escreva um programa Python que abra um arquivo e manipule uma \n",
    "exceção FileNotFoundError se o arquivo não existir.\n",
    "exception FileNotFoundError:\n",
    "Gerado quando um arquivo ou diretório é solicitado, mas não existe. Corresponde ao \n",
    "erro ENOENT."
   ]
  },
  {
   "cell_type": "code",
   "execution_count": 29,
   "metadata": {},
   "outputs": [
    {
     "ename": "SyntaxError",
     "evalue": "expected ':' (3755056981.py, line 8)",
     "output_type": "error",
     "traceback": [
      "\u001b[1;36m  Cell \u001b[1;32mIn[29], line 8\u001b[1;36m\u001b[0m\n\u001b[1;33m    except FileNotFoundError\u001b[0m\n\u001b[1;37m                            ^\u001b[0m\n\u001b[1;31mSyntaxError\u001b[0m\u001b[1;31m:\u001b[0m expected ':'\n"
     ]
    }
   ],
   "source": [
    "def open_file(fileName):\n",
    "    try:\n",
    "        file = open(fileName,'r')\n",
    "        contents = file.read()\n",
    "        print('File contents:')\n",
    "        print(contents)\n",
    "        file.close()\n",
    "    except FileNotFoundError\n",
    "        print('ERRO: Arquivo não localizado!')"
   ]
  },
  {
   "cell_type": "code",
   "execution_count": null,
   "metadata": {},
   "outputs": [],
   "source": [
    "# USO DA FUNÇÃO\n",
    "\n",
    "arquivo = input('Informe o caminho do arquivo: ')\n",
    "open_file(aquivo)"
   ]
  }
 ],
 "metadata": {
  "kernelspec": {
   "display_name": "Python 3",
   "language": "python",
   "name": "python3"
  },
  "language_info": {
   "codemirror_mode": {
    "name": "ipython",
    "version": 3
   },
   "file_extension": ".py",
   "mimetype": "text/x-python",
   "name": "python",
   "nbconvert_exporter": "python",
   "pygments_lexer": "ipython3",
   "version": "3.11.0"
  },
  "orig_nbformat": 4
 },
 "nbformat": 4,
 "nbformat_minor": 2
}
