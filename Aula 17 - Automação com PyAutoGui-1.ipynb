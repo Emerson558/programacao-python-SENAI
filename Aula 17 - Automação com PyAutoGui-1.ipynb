{
 "cells": [
  {
   "cell_type": "code",
   "execution_count": null,
   "metadata": {},
   "outputs": [],
   "source": [
    "!pip install pyautogui"
   ]
  },
  {
   "cell_type": "markdown",
   "metadata": {},
   "source": [
    "## Exercício 01\n",
    "\n",
    "Movimentar o mouse para uma posição na tela"
   ]
  },
  {
   "cell_type": "markdown",
   "metadata": {},
   "source": []
  },
  {
   "cell_type": "code",
   "execution_count": null,
   "metadata": {},
   "outputs": [],
   "source": [
    "import pyautogui\n",
    "\n",
    "#Movimentar o mouse nas coordenadas(x ,y)\n",
    "pyautogui.moveTo(500,500,10)"
   ]
  },
  {
   "cell_type": "markdown",
   "metadata": {},
   "source": [
    "#### Exercício 02\n",
    "\n",
    "Clicar em uma posição específica na tela"
   ]
  },
  {
   "cell_type": "code",
   "execution_count": null,
   "metadata": {},
   "outputs": [],
   "source": [
    "#Descobrir a posição de um elemento\n",
    "pyautogui.position()\n",
    "\n",
    "#Movimentar para uma posição expecífica\n",
    "pyautogui.moveTo(1734,457,5)"
   ]
  },
  {
   "cell_type": "markdown",
   "metadata": {},
   "source": [
    "## Exercício 03\n",
    "\n",
    "Digitar um texto em um campo de entrada"
   ]
  },
  {
   "cell_type": "code",
   "execution_count": null,
   "metadata": {},
   "outputs": [],
   "source": [
    "# Importar a biblioteca time\n",
    "import time\n",
    "import pyautogui\n",
    "\n",
    "#Aguardar alguns instantes antes de iniciar a digitação\n",
    "\n",
    "time.sleep(5) #comando utilizado para \"dar um tempo\" na operação o 5 é a quantidade de segundos\n",
    "\n",
    "# Digite um texto\n",
    "pyautogui.write('Hello, baby')"
   ]
  },
  {
   "cell_type": "markdown",
   "metadata": {},
   "source": [
    "# Exercício 04\n",
    "Capturar a posição atual do mouse"
   ]
  },
  {
   "cell_type": "code",
   "execution_count": null,
   "metadata": {},
   "outputs": [],
   "source": [
    "# Obtenha as coordenadas atuais do mouse\n",
    "x, y = pyautogui.position()\n",
    "\n",
    "print(f'Posição Atual do Mouse: x = {x}, y = {y}')\n",
    "\n",
    "\n"
   ]
  },
  {
   "cell_type": "code",
   "execution_count": null,
   "metadata": {},
   "outputs": [],
   "source": [
    "###########Exercício para ir até o menu iniciar e abrir o bloco de notas\n",
    "\n",
    "pyautogui.click(25,1061) #clicar na cordenada desejada (foi no iniciar do windows)\n",
    "time.sleep(1) #dar uma pausa de 1 segundo\n",
    "pyautogui.write('Bloco de notas') #digitar: \"bloco de notas\"\n",
    "pyautogui.press('enter') #pressionar determina tecla do mouse\n",
    "time.sleep(1) #dar uma pausa de 1 segundo\n",
    "pyautogui.write('Boa, deu certo!!!!') #digitar: \"Boa, deu certo!!!!\"\n"
   ]
  },
  {
   "cell_type": "markdown",
   "metadata": {},
   "source": [
    "## Exercício 05\n",
    "\n",
    "Realizar um duplo clique"
   ]
  },
  {
   "cell_type": "code",
   "execution_count": null,
   "metadata": {},
   "outputs": [],
   "source": [
    "#Realizar um clique duplo nas coordenadas (x, y)\n",
    "# x=626, y=18\n",
    "pyautogui.doubleClick(626,18)"
   ]
  },
  {
   "cell_type": "markdown",
   "metadata": {},
   "source": [
    "## Desfio 02\n",
    "\n",
    "Abrir o site do SENAI com o google chrome"
   ]
  },
  {
   "cell_type": "code",
   "execution_count": null,
   "metadata": {},
   "outputs": [],
   "source": [
    "pyautogui.click(25,1061) #clicar na cordenada desejada (foi no iniciar do windows)\n",
    "time.sleep(1) #dar uma pausa de 1 segundo\n",
    "pyautogui.write('google chrome') #digitar: \"O texto desejado\"\n",
    "pyautogui.press('enter') #pressionar determina tecla do mouse\n",
    "time.sleep(2) #dar uma pausa de 2 segundos\n",
    "pyautogui.write('senai suico') #digitar: \"O texto desejado\"\n",
    "pyautogui.press('enter') #pressionar determina tecla do mouse"
   ]
  },
  {
   "cell_type": "markdown",
   "metadata": {},
   "source": [
    "## Desafio 03"
   ]
  },
  {
   "cell_type": "code",
   "execution_count": null,
   "metadata": {},
   "outputs": [],
   "source": [
    "#https://sp.senai.br/unidade/suicobrasileira/\n",
    "\n",
    "import time\n",
    "import pyautogui\n",
    "\n",
    "pyautogui.click(25,1061) #clicar na cordenada desejada (foi no iniciar do windows)\n",
    "time.sleep(1) #dar uma pausa de 1 segundo\n",
    "pyautogui.write('google chrome') #digitar: \"O texto desejado\"\n",
    "pyautogui.press('enter') #pressionar determina tecla do mouse\n",
    "time.sleep(1) #dar uma pausa de 2 segundos\n",
    "pyautogui.write(\"https://sp.senai.br/unidade/suicobrasileira/\") #digitar: \"O texto desejado\"\n",
    "time.sleep(1) #dar uma pausa de 2 segundos\n",
    "pyautogui.press('enter') #pressionar determina tecla do mouse\n"
   ]
  },
  {
   "cell_type": "markdown",
   "metadata": {},
   "source": [
    "## Desafio 04\n",
    "\n",
    "1. Abrir o Google Chrome\n",
    "2. Entrar no site da Escola\n",
    "3. Clicar em Conheça nossos cursos\n",
    "4. Buscar o curso FMEA\n",
    "5. Clicar em ver unidades"
   ]
  },
  {
   "cell_type": "code",
   "execution_count": 88,
   "metadata": {},
   "outputs": [],
   "source": [
    "import time\n",
    "import pyautogui\n",
    "\n",
    "pyautogui.click(25,1061) #clicar na cordenada desejada (foi no iniciar do windows)\n",
    "time.sleep(1) #dar uma pausa de 1 segundo\n",
    "pyautogui.write('google chrome') #digitar: \"O texto desejado\"\n",
    "pyautogui.press('enter') #pressionar determina tecla do mouse\n",
    "time.sleep(1) #dar uma pausa de 2 segundos\n",
    "pyautogui.write(\"https://sp.senai.br/unidade/suicobrasileira/\") #digitar: \"O texto desejado\"\n",
    "time.sleep(1) #dar uma pausa de 2 segundos\n",
    "pyautogui.press('enter') #pressionar determina tecla do mouse\n",
    "time.sleep(1) #dar uma pausa de 1 segundos\n",
    "pyautogui.click(1578,597) #clicar na cordenada\n",
    "time.sleep(2) #dar uma pausa de 2 segundos\n",
    "pyautogui.click(1203,371) #clicar na cordenada\n",
    "pyautogui.write('FMEA') #digitar: \"O texto desejado\"\n",
    "time.sleep(1) #dar uma pausa de 1 segundos\n",
    "pyautogui.click(1278,373) #clicar na cordenada\n",
    "time.sleep(1) #dar uma pausa de 1 segundos\n",
    "pyautogui.click(1560,631) #clicar na cordenada"
   ]
  },
  {
   "cell_type": "markdown",
   "metadata": {},
   "source": [
    "## Exercício 13\n",
    "\n",
    "Neste exercício, você usará a biblioteca PyAutoGUI para \n",
    "automatizar o preenchimento de um formulário no site https://rpachallenge.com/. \n",
    "Seu objetivo é abrir o site, preencher os campos do formulário com informações \n",
    "fictícias e praticar o uso das funções do PyAutoGUI para automação de tarefas."
   ]
  },
  {
   "cell_type": "code",
   "execution_count": 144,
   "metadata": {},
   "outputs": [],
   "source": [
    "import time\n",
    "import pyautogui\n",
    "\n",
    "pyautogui.click(25,1061) #clicar na cordenada desejada (foi no iniciar do windows)\n",
    "time.sleep(1) #dar uma pausa de 1 segundo\n",
    "pyautogui.write('google chrome') #digitar: \"O texto desejado\"\n",
    "pyautogui.press('enter') #pressionar determina tecla do mouse\n",
    "time.sleep(1) #dar uma pausa de 2 segundos\n",
    "pyautogui.write(\"https://forms.gle/6T6Umx21BMqqsfHD8\") #digitar: \"O texto desejado\"\n",
    "time.sleep(1) #dar uma pausa de 2 segundos\n",
    "pyautogui.press('enter') #pressionar determina tecla do mouse\n",
    "time.sleep(1) #dar uma pausa de 2 segundos\n",
    "pyautogui.press('F11') #pressionar determina tecla do mouse\n",
    "time.sleep(1) #dar uma pausa de 2 segundos\n",
    "pyautogui.click(660,464) #clicar na cordenada\n",
    "time.sleep(1) #dar uma pausa de 2 segundos\n",
    "pyautogui.write('Emerson') #digitar: \"O texto desejado\"\n",
    "pyautogui.click(660,609) #clicar na cordenada\n",
    "time.sleep(1) #dar uma pausa de 2 segundos\n",
    "pyautogui.write('Rodrigues da Cunha') #digitar: \"O texto desejado\"\n",
    "time.sleep(1) #dar uma pausa de 2 segundos\n",
    "\n",
    "pyautogui.scroll(-660) #rolar mouse para baixo\n",
    "time.sleep(1) #dar uma pausa de 2 segundos\n",
    "\n",
    "pyautogui.click(660,533) #clicar na cordenada\n",
    "pyautogui.write('emerson.cunha558@gmail.com') #digitar: \"O texto desejado\"\n",
    "time.sleep(1) #dar uma pausa de 2 segundos\n",
    "\n",
    "\n",
    "pyautogui.click(660,681) #clicar na cordenada\n",
    "pyautogui.write('Rua SENAI, numero 195 Santo amaro, SP') #digitar: \"O texto desejado\"\n",
    "time.sleep(1) #dar uma pausa de 2 segundos\n",
    "\n",
    "pyautogui.click(660,828) #clicar na cordenada\n",
    "pyautogui.write('114495-0258') #digitar: \"O texto desejado\"\n",
    "time.sleep(1) #dar uma pausa de 2 segundos\n",
    "\n",
    "pyautogui.click(660,907) #clicar na cordenada\n",
    "\n",
    "\n",
    "\n",
    "\n"
   ]
  },
  {
   "cell_type": "code",
   "execution_count": 142,
   "metadata": {},
   "outputs": [
    {
     "name": "stdout",
     "output_type": "stream",
     "text": [
      "Posição Atual do Mouse: x = 234, y = 392\n"
     ]
    }
   ],
   "source": [
    "# Obtenha as coordenadas atuais do mouse\n",
    "x, y = pyautogui.position()\n",
    "\n",
    "print(f'Posição Atual do Mouse: x = {x}, y = {y}')"
   ]
  }
 ],
 "metadata": {
  "kernelspec": {
   "display_name": "Python 3",
   "language": "python",
   "name": "python3"
  },
  "language_info": {
   "codemirror_mode": {
    "name": "ipython",
    "version": 3
   },
   "file_extension": ".py",
   "mimetype": "text/x-python",
   "name": "python",
   "nbconvert_exporter": "python",
   "pygments_lexer": "ipython3",
   "version": "3.11.0"
  },
  "orig_nbformat": 4
 },
 "nbformat": 4,
 "nbformat_minor": 2
}
