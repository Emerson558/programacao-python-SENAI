{
 "cells": [
  {
   "cell_type": "code",
   "execution_count": 1,
   "metadata": {},
   "outputs": [
    {
     "name": "stdout",
     "output_type": "stream",
     "text": [
      "Requirement already satisfied: PyPDF2 in c:\\python311\\lib\\site-packages (3.0.1)\n"
     ]
    },
    {
     "name": "stderr",
     "output_type": "stream",
     "text": [
      "\n",
      "[notice] A new release of pip available: 22.3 -> 23.2.1\n",
      "[notice] To update, run: python.exe -m pip install --upgrade pip\n"
     ]
    }
   ],
   "source": [
    "!pip install PyPDF2"
   ]
  },
  {
   "cell_type": "code",
   "execution_count": 12,
   "metadata": {},
   "outputs": [
    {
     "name": "stdout",
     "output_type": "stream",
     "text": [
      "['NIF NOME  IDADE  UF (Origem)  ', 'sn10259  Jorge Moreira  45 SP ', 'sn74855  Brun a Nogueira  24 BA ', 'sn97849  Luiza Magalhães  41 MA ', 'sn97412 Clarivaldo Rêgo  74 SP ', 'sn79872  Jedai da Silva  19 SP ', 'sn27893  Edineia Jureia  35 PA ', 'sn76412  Florisfonso Melo Rêgo  52 AM ']\n",
      "['NIF,NOME,IDADE,UF,(Origem)', 'sn10259,Jorge,Moreira,45,SP,', 'sn74855,Brun,a,Nogueira,24,BA,', 'sn97849,Luiza,Magalhães,41,MA,', 'sn97412,Clarivaldo,Rêgo,74,SP,', 'sn79872,Jedai,da,Silva,19,SP,', 'sn27893,Edineia,Jureia,35,PA,', 'sn76412,Florisfonso,Melo,Rêgo,52,AM,']\n"
     ]
    }
   ],
   "source": [
    "#--------------------------------------Importação das bibliotecas\n",
    "import PyPDF2 as pdf\n",
    "import openpyxl\n",
    "import os\n",
    "\n",
    "#--------------------------------------Alimentar as variáveis\n",
    "caminho = 'C:\\\\Users\\\\FIC\\\\Documents\\\\Emerson-Python\\\\Aula 14\\\\Arquivos\\\\'\n",
    "arquivo = 'Funcionarios.pdf'\n",
    "\n",
    "#--------------------------------------Abrir o documento e manipulá-lo\n",
    "pdf_file = open(caminho + arquivo,'rb')\n",
    "\n",
    "# A biblioteca está lendo o documento em PDF\n",
    "read_pdf = pdf.PdfReader(pdf_file)\n",
    "\n",
    "# Número de págimas existentes no arquivo em PDF\n",
    "number_of_pages = len(read_pdf.pages)\n",
    "\n",
    "#Leitura de uma página específica\n",
    "page = read_pdf.pages[0]\n",
    "\n",
    "#Extrair o texto da página\n",
    "page_content = page.extract_text()\n",
    "\n",
    "#--------------------------------------Tratamento de dados\n",
    "parsed = page_content.splitlines()\n",
    "#print(parsed)\n",
    "parsed.remove(' ')\n",
    "print(parsed)\n",
    "#--------------------------------------Converte a lista em string\n",
    "#Converte a lista em String separando os elementos por /\n",
    "texto = '/'.join(parsed) \n",
    "\n",
    "texto = texto.replace(',','.')\n",
    "texto = texto.replace('  /',',')\n",
    "texto = texto.replace('  ',' ')\n",
    "texto = texto.replace(',','/')\n",
    "texto = texto.replace(' ', ',')\n",
    "\n",
    "parsed = texto.split('/') #converter como lista\n",
    "#print(parsed)\n",
    "\n",
    "\n",
    "print(parsed)\n",
    "\n",
    "\n"
   ]
  },
  {
   "cell_type": "code",
   "execution_count": null,
   "metadata": {},
   "outputs": [],
   "source": []
  }
 ],
 "metadata": {
  "kernelspec": {
   "display_name": "Python 3",
   "language": "python",
   "name": "python3"
  },
  "language_info": {
   "codemirror_mode": {
    "name": "ipython",
    "version": 3
   },
   "file_extension": ".py",
   "mimetype": "text/x-python",
   "name": "python",
   "nbconvert_exporter": "python",
   "pygments_lexer": "ipython3",
   "version": "3.11.0"
  },
  "orig_nbformat": 4
 },
 "nbformat": 4,
 "nbformat_minor": 2
}
